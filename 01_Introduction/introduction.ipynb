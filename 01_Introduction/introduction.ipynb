{
  "cells": [
    {
      "cell_type": "markdown",
      "metadata": {
        "id": "6d6XDEJQwFko"
      },
      "source": [
        "# Tutorial\n",
        "\n",
        "The first section of this tutorial is written to be presented in Google Colab which includes a \"batteries included\" environment. In this section, no installation will be required. After that, there is an installation section which should contain all necessary instructions to run the same notebook locally on your own device."
      ]
    },
    {
      "cell_type": "markdown",
      "metadata": {
        "id": "j1dQP_zvv8R6"
      },
      "source": [
        "## Learning Objectives\n",
        "\n",
        "By the end of this tutorial you should be able to\n",
        "\n",
        "* Open a notebook in colab (You are here!).\n",
        "* Use basic python commands and syntax.\n",
        "* Use common libraries useful for Artificial Intelligence (AI) and Machine Learning (ML).\n",
        "* Make a function that opens another file.\n",
        "* Download contents of a git repository.\n",
        "* Set up a conda virtual envorinment."
      ]
    },
    {
      "cell_type": "markdown",
      "metadata": {
        "id": "Oz9jwjo4v8R6"
      },
      "source": [
        "## Python Logic\n",
        "\n",
        "Logicical operators in python are binary operators which evaluate logical expressions into the binary of `True` and `False`.\n",
        "This is analagous to computer machine code which uses bits (that is, 0 and 1) to execute instructions and store data. These values in python are called \"booleans\" after [George Boole](https://en.wikipedia.org/wiki/George_Boole), a mathematician who extensively studied the algebra of logic.\n",
        "\n",
        "\n",
        "We use logical operators (`==`, `>`, `<`, `in`, `not`) to make boolean expressions that facilitate code branching."
      ]
    },
    {
      "cell_type": "markdown",
      "metadata": {
        "id": "KJ5y5avRv8R7"
      },
      "source": [
        "### [Conditionals and control flow](https://docs.python.org/3/tutorial/controlflow.html#more-control-flow-tools)\n",
        "\n",
        "The `if` keyword is used in python to create code branches.\n",
        "If an _if_ statement's conditione evaluates to `True`, the interpreter proceeds to execute the code in the [suite](https://docs.python.org/3/reference/compound_stmts.html#grammar-token-python-grammar-suite).\n",
        "Otherwise, (_if_ does not), the interpreter goes to the next piece of code without executing the suite.\n",
        "\n",
        "There can be zero or more `elif` parts, and the `else` part is optional. The keyword `elif` is short for `else if`, and is useful to avoid excessive indentation.\n",
        "\n",
        "### For Loops\n",
        "\n",
        "A `for` loop is a shortcut, or syntactic sugar, used to process items in an iterable (an ordered container of items).\n",
        "It is similar to $\\Sigma$ summation notation in mathematics, for example,\n",
        "$\\displaystyle \\texttt{total} = \\sum_{i=0}^{n-1} i$ is analagous to the following python code:\n",
        "```\n",
        "for i in range(n):\n",
        "    total = total + i\n",
        "```"
      ]
    },
    {
      "cell_type": "code",
      "execution_count": null,
      "metadata": {
        "id": "SY53Nhebv8R7"
      },
      "outputs": [],
      "source": [
        "# Test if a number is even\n",
        "number = 6\n",
        "if number % 2 == 0: # modulus operator\n",
        "    print(\"This number is even!\")\n",
        "else:\n",
        "    print(\"This number is odd\")"
      ]
    },
    {
      "cell_type": "code",
      "execution_count": null,
      "metadata": {
        "id": "mxfx9lCVv8R8"
      },
      "outputs": [],
      "source": [
        "# Print every number in a list\n",
        "for number in [6, 28, 496, 8128, 33550336]:\n",
        "    print(number)"
      ]
    },
    {
      "cell_type": "markdown",
      "metadata": {
        "id": "EliB0_iAv8R9"
      },
      "source": [
        "### Knowledge Checkpoint!\n",
        "\n",
        "Now is the time to check your understanding.\n",
        "\n",
        "Below is the skeleton for a function (if any term is confusing, please ask and we will explain) that makes a list of numbers `1` to `N`. Write a function that:\n",
        "\n",
        "1. Checks if the number is odd or even\n",
        "2. Adds the even numbers to a running total\n",
        "3. Skips the odd numbers\n",
        "\n",
        "Execute the below cell to verify you've got the right results!\n",
        "\n",
        "(hint: If you are struggling, make sure the code is doing what you think it is by using `print` with any variables you are unsure about.)"
      ]
    },
    {
      "cell_type": "markdown",
      "metadata": {
        "id": "kMxrMKFi2Rm7"
      },
      "source": [
        "<details><summary>\n",
        "\n",
        "### Aside: List comprehensions\n",
        "\n",
        "</summary>\n",
        "\n",
        "The venerable for loop is a main stay of computer programming, but in python it holds extra functionality that is not always required. In many applications what is really desired is to take a list of items and create another list with the items transformed or filtered in some way. Python has a specific pattern for this type of transformation called a list comprehension. List comprehensions have benefits over for loops in that they are expressions, as opposed to statements, which means they are faster in many cases. Consider this article from 2004 on [efficient string concatenation][python-string-concat] which compares the speed of using several solutions. The trade off is that you lose control flow abilities such as `break` and `continue`, but most of the use cases for these can also be included in a list comprehension using its `if` clause. Here is an example of a list comprehension computing all the even squares less than 100:\n",
        "\n",
        "```python\n",
        "[ x**2\n",
        "  for x in range(12)\n",
        "  if (x**2 % 2) == 0\n",
        "  if x**2 < 100\n",
        "]\n",
        "```\n",
        "\n",
        "This is equivalent to:\n",
        "```python\n",
        "\n",
        "resulting_list = []\n",
        "for x in range(12):\n",
        "  if (x**2 % 2 == 0) and (x**2<100):\n",
        "    resulting_list.append(x**2)\n",
        "  else:\n",
        "    pass\n",
        "```\n",
        "\n",
        "\n",
        "This is an example of a general pattern using list comprehensions:\n",
        "\n",
        "```python\n",
        "[\n",
        "    transform(item)\n",
        "    for item in items\n",
        "    if passes_test(item)\n",
        "]\n",
        "```\n",
        "\n",
        "Which behaves like:\n",
        "```python\n",
        "\n",
        "resulting_list = []\n",
        "for item in items:\n",
        "  if passes_test(item):\n",
        "    resulting_list.append(transform(item))\n",
        "  else:\n",
        "    pass\n",
        "```\n",
        "\n",
        "\n",
        "Another benefit of list comprehensions is readability, but that is more difficult to measure objectively.\n",
        "\n",
        "[python-string-concat]: https://waymoot.org/home/python_string/\n",
        "\n",
        "</details>"
      ]
    },
    {
      "cell_type": "code",
      "execution_count": null,
      "metadata": {
        "id": "tvPQ_XmZv8R9"
      },
      "outputs": [],
      "source": [
        "def even_adder(n_digits=20):\n",
        "\n",
        "    digit_list = [i+1 for i in range(n_digits)]\n",
        "    even_sum = 0\n",
        "    for digit in \"\":\n",
        "        if '':\n",
        "            even_sum = \"\"\n",
        "        else:\n",
        "            ''\n",
        "\n",
        "    return even_sum"
      ]
    },
    {
      "cell_type": "code",
      "execution_count": null,
      "metadata": {
        "id": "He5815K6v8R-"
      },
      "outputs": [],
      "source": [
        "assert even_adder(20) == 110\n",
        "assert even_adder(12) == 42\n",
        "assert even_adder(4) == 6"
      ]
    },
    {
      "cell_type": "markdown",
      "metadata": {
        "id": "q-3NSCmvv8R-"
      },
      "source": [
        "### Functions and operations\n",
        "\n",
        "In python, functions are objects which execute the same code, with possibly different arguments (or, inputs or parameters).\n",
        "\n",
        "In the same way that a mathematical function such as $f(x,y)$ can give you 5 or 9, depending on what `x` and `y` you give `f` as an input, functions in python operate similarly.\n",
        "\n",
        "If you ever find yourself repeating code many times in your program then it is a good idea to put it in a function! In particular, if any changes need to be made, they can be made in one place which reduces the possibility of introducing errors.\n",
        "\n",
        "To make a function, you use the `def` keyword, and specify its signature using `()`, and it may return a value using the `return` keyword. There are some, hopefully helpful, examples below.\n",
        "\n",
        "Arguments passed to functions can also be given default values, by assigning the default value when you define the function. This means when that function is called, that variable does not need to be included, it will be given that default value. This can enhance readability and reduce development time if used judiciously."
      ]
    },
    {
      "cell_type": "code",
      "execution_count": null,
      "metadata": {
        "id": "A7-ow9Lhv8R-"
      },
      "outputs": [],
      "source": [
        "# Basic examples\n",
        "\n",
        "def do_addition(x, y):\n",
        "    return x + y\n",
        "\n",
        "def open_file(file_path):\n",
        "    with open(file_path, 'r') as f: # a context manager using the `with` keyword\n",
        "        opened_file = f.read()\n",
        "    return opened_file\n",
        "\n",
        "def tell_me_what_im_thinking_of(what_im_thinking_about, polite=False):\n",
        "    oracles_repsonse = f\"You are thinking about {what_im_thinking_about}.\"\n",
        "    if polite:\n",
        "        oracles_repsonse += \"Isn't that right, dear?\"\n",
        "\n",
        "    print(oracles_repsonse)"
      ]
    },
    {
      "cell_type": "code",
      "execution_count": null,
      "metadata": {
        "id": "TJc5tBnfv8R_"
      },
      "outputs": [],
      "source": [
        "print(do_addition(1, 2))\n",
        "print(do_addition(6, 7))\n",
        "print(tell_me_what_im_thinking_of(\"A nice lunch\", polite=True))"
      ]
    },
    {
      "cell_type": "markdown",
      "metadata": {
        "id": "pJRsEixyv8R_"
      },
      "source": [
        "### Knowledge Checkpoint!\n",
        "\n",
        "Below are a few lines of code that have a common operation. Transform that code that into a function!\n",
        "\n",
        "The next cell has a few statements to make sure you've got the right anwser, try those out to check your work!"
      ]
    },
    {
      "cell_type": "code",
      "execution_count": null,
      "metadata": {
        "id": "nskN0rvx4w5Q"
      },
      "outputs": [],
      "source": [
        "total = 0\n",
        "\n",
        "total = total * 2\n",
        "total = total + 1\n",
        "total = total * 2\n",
        "total = total + 1\n",
        "total = total / 3\n",
        "total = total * 2\n",
        "total = total + 1"
      ]
    },
    {
      "cell_type": "code",
      "execution_count": null,
      "metadata": {
        "id": "WLj3rJKfv8R_"
      },
      "outputs": [],
      "source": [
        "def skeleton_function():\n",
        "    pass"
      ]
    },
    {
      "cell_type": "code",
      "execution_count": null,
      "metadata": {
        "id": "cl1XvHGzv8SA"
      },
      "outputs": [],
      "source": [
        "assert skeleton_function(2) == 5\n",
        "assert skeleton_function(3) == 7"
      ]
    },
    {
      "cell_type": "markdown",
      "metadata": {
        "id": "UKo4Zd9Yv8SA"
      },
      "source": [
        "## Using Git\n",
        "\n",
        "The `git` tool is a distributed version control system which is the _lingua franca_ of open source software. If you want to store code and keep track of its versions, `git` is the tool to use. The `GitHub` platform, and its other (sightly less Microsoft-owned) counterparts such as `GitLab`, are `git` repository hosting platforms, that is they give the code a place to live, which are fundamental to how modern software development is practiced.\n",
        "\n",
        "For our purposes, we'll be using `GitHub` to organize the code used for the learning sessions. If you are so inclined, you can also `fork` these tutorials and keep a copy for yourself!"
      ]
    },
    {
      "cell_type": "markdown",
      "metadata": {
        "id": "5gWF441Tv8SC"
      },
      "source": [
        "## Common packages\n",
        "\n",
        "The beauty of the python ecosystem is that it has some of the broadest and most complete package support compared to other languages. There are several incredibly powerful packages ready for you to use for AI/ML/Data Science, so we will introduce you to some of the big ones."
      ]
    },
    {
      "cell_type": "markdown",
      "metadata": {
        "id": "3brtv0t6v8SC"
      },
      "source": [
        "### Numpy\n",
        "Numpy might need no introduction, but for completeness we will do so anyway.\n",
        "It is THE matrix operation package.\n",
        "It has lovely data structures, and a powerful C based back end.\n",
        "If you need to do any numerical mathematics beyond \"1+1\" then Numpy is the way to go.\n",
        "\n",
        "* [Numpy Documentation](https://numpy.org/doc/stable/)"
      ]
    },
    {
      "cell_type": "code",
      "execution_count": null,
      "metadata": {
        "id": "nLz4ja67v8SC"
      },
      "outputs": [],
      "source": [
        "# Import the package so we can use it in the code\n",
        "import numpy as np # The common alias"
      ]
    },
    {
      "cell_type": "code",
      "execution_count": null,
      "metadata": {
        "id": "8op_aAoMv8SC"
      },
      "outputs": [],
      "source": [
        "# Task\n",
        "# Generate random data and verify that the standard deviation and mean is\n",
        "# what they are supposed to be\n",
        "\n",
        "# first: Generate the distirbution\n",
        "# Reference the documentation to see which parameters the function requires and\n",
        "# their meaning:\n",
        "# https://numpy.org/doc/stable/reference/random/generated/numpy.random.normal.html#numpy.random.normal\n",
        "\n",
        "distribution_size = 200\n",
        "normal_distribution = np.random.default_rng().normal(0, 0.5, distribution_size)"
      ]
    },
    {
      "cell_type": "code",
      "execution_count": null,
      "metadata": {
        "id": "2dKddDZUv8SD"
      },
      "outputs": [],
      "source": [
        "# Check we've got the right size!\n",
        " #`shape` is a property of the distribution object, so we do not call it with ()\n",
        "normal_distribution.shape"
      ]
    },
    {
      "cell_type": "code",
      "execution_count": null,
      "metadata": {
        "id": "SqySl4QHv8SD"
      },
      "outputs": [],
      "source": [
        "# Now let's check the distribution for the mean and the standard deviation\n",
        "# (which should be almost the same as our parameters from before)\n",
        "# std and mean are functions, so they need to be called with ()\n",
        "normal_distribution.std()"
      ]
    },
    {
      "cell_type": "code",
      "execution_count": null,
      "metadata": {
        "id": "0omvNG4kv8SD"
      },
      "outputs": [],
      "source": [
        "normal_distribution.mean()"
      ]
    },
    {
      "cell_type": "markdown",
      "metadata": {
        "id": "Wmj2-Afx7DX0"
      },
      "source": [
        "## Bonus! - Add noise to that distribution.\n",
        "\n",
        "When we refer to \"noise\", you can think of it like actual audio noise.\n",
        "If you record your voice on a cheap microphone, there will be a lot of extra crackles and sounds besides just for your voice.  \n",
        "Your voice here is the 'signal', which we care about, and the microphone interference is machine 'noise'.\n",
        "The same principal can apply to any sort of signal, audio, visual (think about jpg compression!), or numerical.\n",
        "\n",
        "Here, we'll use two main type of noise, 'normal' or 'gaussian', which just means noise that is in a gaussian distribution, which is the classic Tall Around The Mean Short Around The Edges distribution, and 'uniform' which is roughly even between two points.\n",
        "\n",
        "Gaussian noise is very commonly used in scientific contexts, because gaussians are very well understood, easy to model, and captures randomness pretty perfectly."
      ]
    },
    {
      "cell_type": "code",
      "execution_count": null,
      "metadata": {
        "id": "WrvZMDFhv8SD"
      },
      "outputs": [],
      "source": [
        "# When we say \"noise\", we mean some other distribution that can change the shape\n",
        "# of the distribution.\n",
        "# Let's try with a uniform distribution - from here:\n",
        "# https://numpy.org/doc/stable/reference/random/generated/numpy.random.Generator.uniform.html#numpy.random.Generator.uniform\n",
        "\n",
        "noise_shape = \"?\"\n",
        "noise_lower_bound = \"?\"\n",
        "noise_upper_bound = \"?\"\n",
        "\n",
        "noise = np.random.default_rng().uniform(\n",
        "    noise_lower_bound, noise_upper_bound, noise_shape\n",
        ")\n",
        "\n",
        "# To apply that to the original distribution, we need to do some array manitpulation\n",
        "# Looky here! https://numpy.org/doc/stable/reference/arrays.ndarray.html#arithmetic-matrix-multiplication-and-comparison-operations\n",
        "noisy_normal_distribution = \"?\""
      ]
    },
    {
      "cell_type": "code",
      "execution_count": null,
      "metadata": {
        "id": "qwiSRU1Pv8SD"
      },
      "outputs": [],
      "source": [
        "# Check by making sure the std and mean are around the same as the original\n",
        "\n",
        "# The difference should be less than .1 sigma - The original distribution has a uniform distirbution applied, so it just changes the levels slightly.\n",
        "# Think about what would happen if you dusted sand evenly over a sand castle. If you do it perfectly evenly, it doesn't change the spread of the castle really dramatically.\n",
        "assert abs(noisy_normal_distribution.std() - normal_distribution.std()) < .1"
      ]
    },
    {
      "cell_type": "markdown",
      "metadata": {
        "id": "vZWmGpKMv8SD"
      },
      "source": [
        "### Pandas\n",
        "Pandas is another popular data analysis package.  It is great for data views, slicing and taking control over your input data. It has nice, easy-to-play-with tables, so that you can easily describe your data and table subsets based on row contents.\n",
        "It also uses a C backend in some spots, so it's pretty dang quick where it counts.\n",
        "\n",
        "- [Pandas Documentation](https://pandas.pydata.org/pandas-docs/stable/)"
      ]
    },
    {
      "cell_type": "code",
      "execution_count": null,
      "metadata": {
        "id": "tKY-OKZ_v8SD"
      },
      "outputs": [],
      "source": [
        "import pandas as pd # common alais!"
      ]
    },
    {
      "cell_type": "code",
      "execution_count": null,
      "metadata": {
        "id": "3Ph9M0o7v8SL"
      },
      "outputs": [],
      "source": [
        "# Task\n",
        "# Make a data frame full of new (random) data and run some statistics\n",
        "\n",
        "# Pandas can be constructed from a lot of different objects.\n",
        "# for this tutorial, we'll make a dictionary with numpy arrays in it\n",
        "# And transform that into an dataframe we can do operations on!\n",
        "\n",
        "dataframe_length = 20\n",
        "intial_values = {\n",
        "    \"uniform_distribution\": np.random.default_rng().uniform(\n",
        "        -1, 1, size=dataframe_length\n",
        "    ), # The default low and high for random.uniform is 0, 1\n",
        "    # A non-random distribution of -1 to 1. The method linspace produces an array\n",
        "    # with evenly spaced values\n",
        "    \"linear_space\": np.linspace(-1, 1, dataframe_length),\n",
        "    # The default guassian has a mean of 0 and a standard deviation of 1.\n",
        "    \"guassian_noise\": np.random.default_rng().normal(size=dataframe_length)\n",
        "}\n",
        "\n",
        "# Transform the dictionary into an array\n",
        "spaces_dataframe = pd.DataFrame(intial_values)\n"
      ]
    },
    {
      "cell_type": "code",
      "execution_count": null,
      "metadata": {
        "id": "DLdGoSPMv8SL"
      },
      "outputs": [],
      "source": [
        "# Let's now run some stats on this!\n",
        "\n",
        "# to access a value in a dataframe, we use the column name as an indexer\n",
        "\n",
        "# This shows us all the unique values which is good for categorical variables.\n",
        "spaces_dataframe[\"linear_space\"].unique()"
      ]
    },
    {
      "cell_type": "code",
      "execution_count": null,
      "metadata": {
        "id": "NCUQ8v27v8SL"
      },
      "outputs": [],
      "source": [
        "# Can also look at the full dataframe with the `describe` method to see a lot of\n",
        "# stats for all the columns\n",
        "\n",
        "spaces_dataframe.describe()"
      ]
    },
    {
      "cell_type": "code",
      "execution_count": null,
      "metadata": {
        "id": "90hP27tvv8SM"
      },
      "outputs": [],
      "source": [
        "## We can also take a subset of the dataframe based on a specific value\n",
        "\n",
        "# Let's evaluate only the negative values in the linear_space column:\n",
        "spaces_dataframe[spaces_dataframe['linear_space']<0].describe()"
      ]
    },
    {
      "cell_type": "code",
      "execution_count": null,
      "metadata": {
        "id": "RGM5A5Nnv8SM"
      },
      "outputs": [],
      "source": [
        "# Also, let's add a new column to the dataframe that is a combination\n",
        "# of existing data from our table\n",
        "\n",
        "spaces_dataframe['noisy_linspace'] = (\n",
        "    spaces_dataframe['linear_space'] + spaces_dataframe['guassian_noise']\n",
        ")\n",
        "\n",
        "spaces_dataframe['noisy_linspace'].describe()"
      ]
    },
    {
      "cell_type": "code",
      "execution_count": null,
      "metadata": {
        "id": "IFoeM1Kgv8SM"
      },
      "outputs": [],
      "source": [
        "# If we decided some data isn't super important, we can just get rid of it\n",
        "\n",
        "spaces_dataframe.drop(['noisy_linspace'], inplace=True, axis=1)\n",
        "# inplace=True -> Replace the version of spaces_dataframe with \"noisy_linspace\" with this new version that doesn't have it.\n",
        "# axis=1 -> Do this for the columns (the y (1) axis), not the rows (axis=0)"
      ]
    },
    {
      "cell_type": "code",
      "execution_count": null,
      "metadata": {
        "id": "Ac1hF9Zrv8SM"
      },
      "outputs": [],
      "source": [
        "# Task 2 - Save and re-load that data\n",
        "\n",
        "# It is also important to know how to save existing data, so that you can use it\n",
        "# later, or if you do not want to re-generate it each time.\n",
        "# Let's drop this dataframe we just made into a csv (comma seperated values) and\n",
        "# load it up again to make sure it is the same as it was before:\n",
        "\n",
        "save_location = \"./example_dataframe.csv\" # needs the extension name\n",
        "spaces_dataframe.to_csv(save_location, index=False)\n",
        "# setting index=False gets rid of the pandas assigned index (generally saved as\n",
        "# 'Unnamed: 0') that is not a part of our data and we do no not want to save."
      ]
    },
    {
      "cell_type": "code",
      "execution_count": null,
      "metadata": {
        "id": "Q-CRfrZlv8SM"
      },
      "outputs": [],
      "source": [
        "# And load it back in to make sure our values are the same!\n",
        "matrix_reloaded = pd.read_csv(save_location)\n",
        "\n",
        "# Look through all the columns make sure they're the same columns:\n",
        "assert matrix_reloaded.columns.all() == spaces_dataframe.columns.all()\n",
        "# and look at all the values in those columns\n",
        "for column in spaces_dataframe.columns:\n",
        "    #.values changes the pandas.Series object into a numpy array\n",
        "    # which makes it easier to compare:\n",
        "    assert matrix_reloaded[column].values.all() == spaces_dataframe[column].values.all()"
      ]
    },
    {
      "cell_type": "code",
      "execution_count": null,
      "metadata": {
        "id": "xjjy6PDsv8SN"
      },
      "outputs": [],
      "source": [
        "# Your challenge, if you choose to accept it:\n",
        "\n",
        "# Make a new dataframe\n",
        "# Show the standard deviation and mean of a random subset of it:\n",
        "\n",
        "new_dataframe = pd.DataFrame()\n",
        "\n",
        "new_dataframe[\"?\"] = \"?\" # construsting the df by adding columns one by one\n",
        "new_dataframe[\"?_2\"] = \"?\"\n",
        "\n",
        "selected_index = '?'\n",
        "\n",
        "subset_dataframe = new_dataframe[new_dataframe.index in \"?\" ]"
      ]
    },
    {
      "cell_type": "code",
      "execution_count": null,
      "metadata": {
        "id": "_sn7TDgJv8SN"
      },
      "outputs": [],
      "source": [
        "subset_dataframe.describe()"
      ]
    },
    {
      "cell_type": "markdown",
      "metadata": {
        "id": "PQ-F_eClv8SN"
      },
      "source": [
        "### scikit-learn\n",
        "\n",
        "The scikit-learn package has some of the best off-the-shelf ML algorithms. It is very easy to use and full of useful diagnostics that help both beginers and seasoned practioners.\n",
        "\n",
        "Largely, it is split into classification (which is which) and regression (how much is that) tasks. If there is an ML algorithm you want to use, scikit-learn is the first place to look.\n",
        "\n",
        "- [scikit-learn Documentation](https://scikit-learn.org/stable/)\n"
      ]
    },
    {
      "cell_type": "markdown",
      "metadata": {
        "id": "b3uDhJR5v8SN"
      },
      "source": [
        "For this example, we'll use the [Iris Classification dataset](https://scikit-learn.org/stable/modules/generated/sklearn.datasets.load_iris.html#sklearn.datasets.load_iris), and try to write an algorithm that splits them into their defined classes.\n",
        "First, we'll look at the classes, and then use a [Decision Tree](https://scikit-learn.org/stable/modules/generated/sklearn.tree.DecisionTreeClassifier.html) to try to split them up. The decision tree, briefly, just tries to figure out the best way to split the input data into different classes. You can think of it like a ant crawling up a tree deciding what branch is best to go down."
      ]
    },
    {
      "cell_type": "code",
      "execution_count": null,
      "metadata": {
        "id": "6eSh5Sv6v8SN"
      },
      "outputs": [],
      "source": [
        "# Let's import everything we will need here\n",
        "from sklearn.datasets import load_iris\n",
        "from sklearn.model_selection import train_test_split\n",
        "from sklearn.tree import DecisionTreeClassifier\n",
        "\n",
        "from sklearn.metrics import accuracy_score"
      ]
    },
    {
      "cell_type": "code",
      "execution_count": null,
      "metadata": {
        "id": "LvF6tW7dv8SO"
      },
      "outputs": [],
      "source": [
        "iris_features, iris_labels = load_iris(return_X_y=True, as_frame=True)\n",
        "# This is automatically split in labels (thing we want to get out of the model),\n",
        "# and features (thing the model uses to learn)\n",
        "\n",
        "# Using `as_frame = True` returns a Pandas dataframe\n",
        "\n",
        "iris_features.head()"
      ]
    },
    {
      "cell_type": "code",
      "execution_count": null,
      "metadata": {
        "id": "iA812seev8SO"
      },
      "outputs": [],
      "source": [
        "# Let's look at our possible classes:\n",
        "iris_labels.unique() # Just numbers huh?\n",
        "\n",
        "# If you look at the documentation, you can see this corresponds to:\n",
        "# 'setosa', 'versicolor', and 'virginica'."
      ]
    },
    {
      "cell_type": "code",
      "execution_count": null,
      "metadata": {
        "id": "3wkB2Eypv8SO"
      },
      "outputs": [],
      "source": [
        "# Before we start training, let's make sure the model won't know the anwsers to\n",
        "# the questions we are asking it to see how well it did.\n",
        "# We will reserve a test set to make sure the model can't cheat:\n",
        "\n",
        "feature_train, feature_test, label_train, label_test =  train_test_split(\n",
        "    iris_features, iris_labels, test_size=.25\n",
        ") # Take 75% of the data for training"
      ]
    },
    {
      "cell_type": "code",
      "execution_count": null,
      "metadata": {
        "id": "E6FU1CQJv8SP"
      },
      "outputs": [],
      "source": [
        "# Now we get to use the classifier\n",
        "\n",
        "# trees are pretty simple so they're VERY fast to train\n",
        "tree = DecisionTreeClassifier().fit(feature_train, label_train)\n",
        "\n",
        "# Let's see how good it is\n",
        "# `Predict` just uses the trained tree to guess the class\n",
        "tree_predictions = tree.predict(feature_test)\n",
        "# accuracy score has a simple definition here - the number the algorithm got right over the total number of predictions it made\n",
        "accuracy_score(label_test, tree_predictions)"
      ]
    },
    {
      "cell_type": "markdown",
      "metadata": {
        "id": "VGGkQMnQv8SP"
      },
      "source": [
        "Now, let's try a regression task.\n",
        "For this, we will ask you to load up the `diabetes` dataset from sklearn, and pick a regression algorithm to run on it.\n",
        "You will need to do a little data preprocessing before hand.\n",
        "\n",
        "Scikit splits its algorithms into classification and regression pretty cleanly, so you can select a different regression method if you want, but the most standard regressor is the [Linear Regressor](https://scikit-learn.org/stable/modules/generated/sklearn.linear_model.LinearRegression.html#sklearn.linear_model.LinearRegression)"
      ]
    },
    {
      "cell_type": "code",
      "execution_count": null,
      "metadata": {
        "id": "DqofTfv9v8SP"
      },
      "outputs": [],
      "source": [
        "# import your packages\n",
        "from sklearn.datasets import \"?\" # Find the dataset\n",
        "\n",
        "from sklearn.\"?\" import \"?\" # Pick your algorithm\n",
        "\n",
        "from sklearn.metrics import r2_score # evaluation metric"
      ]
    },
    {
      "cell_type": "code",
      "execution_count": null,
      "metadata": {
        "id": "BPJBgJfNv8SP"
      },
      "outputs": [],
      "source": [
        "features, labels = \"?\"\n",
        "\n",
        "features_train, features_test, labels_train, labels_test = \"?\"\n",
        "model = \"?\".fit(\"?\")\n",
        "prediction = model.predict(\"?\")\n",
        "\n",
        "r2_score(\"?\", prediction)"
      ]
    },
    {
      "cell_type": "markdown",
      "metadata": {
        "id": "a2fQ7CPEv8SP"
      },
      "source": [
        "### Matplotlib\n",
        "\n",
        "Now that we have a ton of packages to handle data, the little animal brain we have needs something to look at.\n",
        "Matplotlib is the best shot at that. I is the most widely used plotting and visualizations package out there. This little introduction will only scratch the surface as to what it can do.\n",
        "\n",
        "[Matplotlib Documentation](https://matplotlib.org/)"
      ]
    },
    {
      "cell_type": "code",
      "execution_count": null,
      "metadata": {
        "id": "6LoFNqf-v8SQ"
      },
      "outputs": [],
      "source": [
        "import matplotlib.pyplot as plt # pyplot is the module we'll be using here"
      ]
    },
    {
      "cell_type": "code",
      "execution_count": null,
      "metadata": {
        "id": "tdTuJ7A9v8SQ"
      },
      "outputs": [],
      "source": [
        "# Two most common kind of plots you will use are scatter and line plots.\n",
        "# We will use a sine distribution to show the different between the two!\n",
        "\n",
        "sin_x = np.linspace(-3*np.pi, 3*np.pi, 200) # 200 steps between -3pi and 3pi\n",
        "sin_y = np.sin(sin_x) # The y values! (This is basically writing Y = sin(x) for a whole lot of x's and putting them together in a matrix)\n",
        "\n",
        "plt.plot(sin_x, sin_y)\n",
        "plt.title(\"Sine\")\n",
        "plt.ylabel(\"Sine(x)\")\n",
        "plt.xlabel(\"x\")\n",
        "plt.show()"
      ]
    },
    {
      "cell_type": "code",
      "execution_count": null,
      "metadata": {
        "id": "3UbmrN2Kv8SQ"
      },
      "outputs": [],
      "source": [
        "# Plot TWO distributions. On the same plot!\n",
        "\n",
        "# We can do something cool here, where we can see the noise that we have been\n",
        "# adding to distributions.\n",
        "# The upper and lower bounds determine how much noise there is :\n",
        "sin_noise = np.random.default_rng().uniform(-.3, .3, size=200)\n",
        "\n",
        "noisy_sin_y = sin_y + sin_noise\n",
        "\n",
        "# The label helps when making a legend:\n",
        "plt.scatter(sin_x, noisy_sin_y, label=\"Noisy\", color='black')\n",
        "\n",
        "# If we don't Show the plot, we can add more elements like how we added axis\n",
        "# labels and titles before.\n",
        "\n",
        "# Do not add the color to everything, if you add multiple things on the same\n",
        "# plot the colors will be different by default\n",
        "plt.plot(sin_x, sin_y, label='Clean')\n",
        "\n",
        "\n",
        "plt.legend() # Adds the labels onto the plot\n",
        "\n",
        "plt.title(\"Sine\")\n",
        "plt.ylabel(\"Sine(x)\")\n",
        "plt.xlabel(\"x\")\n",
        "plt.show()"
      ]
    },
    {
      "cell_type": "code",
      "execution_count": null,
      "metadata": {
        "id": "bpaXSv0cv8SQ"
      },
      "outputs": [],
      "source": [
        "# Plot diabetes data - See if you can see a relationship between each variable\n",
        "# and the label\n",
        "\n",
        "diabetes_data_columns = \"?\"\n",
        "\n",
        "for column in diabetes_data_columns:\n",
        "    x = \"\"\n",
        "    y = \"\"\n",
        "\n",
        "    assert len(x) == len(y) # The data has to have the same dimensions to work\n",
        "\n",
        "    plt.scatter(x, y)\n",
        "    plt.title(\"?\")\n",
        "    plt.ylabel(\"?\")\n",
        "    plt.xlabel(\"?\") # All good scientific plots have labels\n",
        "    plt.show()"
      ]
    },
    {
      "cell_type": "markdown",
      "metadata": {
        "id": "Z-oHw51Jv8SQ"
      },
      "source": [
        "## Open an outside datasource\n"
      ]
    },
    {
      "cell_type": "markdown",
      "metadata": {
        "id": "CmgFUE8Jv8SR"
      },
      "source": [
        "### Download data\n",
        "\n",
        "\n",
        "Let's grab some data from the [UCI ML Repository](https://archive.ics.uci.edu/)!\n",
        "It's a fantastic resource for toy datasets to test your skills on.\n",
        "\n",
        "For this example. Lets use the [BEANS dataset][BEANS].\n",
        "\n",
        "[BEANS]: https://archive.ics.uci.edu/dataset/602/dry+bean+dataset\n",
        "\n",
        "To get the link to the zip, right click the \"download\" button and copy the link.\n",
        "\n",
        "We will use `curl` to download the data to a specific path.\n",
        "\n",
        "- [`curl` Documentation](https://curl.se/docs/manual.html)"
      ]
    },
    {
      "cell_type": "code",
      "execution_count": null,
      "metadata": {
        "id": "Gdd3sXW_v8SR"
      },
      "outputs": [],
      "source": [
        "! curl https://archive.ics.uci.edu/static/public/602/dry+bean+dataset.zip --output \"DryBeanDataset.zip\""
      ]
    },
    {
      "cell_type": "markdown",
      "metadata": {
        "id": "r2ZeRcS0v8SR"
      },
      "source": [
        "### Write something that opens the data!\n",
        "\n",
        "This stuff is in a zip, which makes it pretty hard to read in.\n",
        "Let's unzip it with another command line tool, `unzip`.\n",
        "\n",
        "Then, we will have a file to work with.\n",
        "The file with data is actually an excel file, but we can work with that as well since Pandas has a\n",
        "[`read_excel`](https://pandas.pydata.org/pandas-docs/stable/reference/api/pandas.read_excel.html) method."
      ]
    },
    {
      "cell_type": "code",
      "execution_count": null,
      "metadata": {
        "id": "ee8KgdXNv8SR"
      },
      "outputs": [],
      "source": [
        "! unzip \"DryBeanDataset.zip\" -d \"./DryBeanDataset/\""
      ]
    },
    {
      "cell_type": "code",
      "execution_count": null,
      "metadata": {
        "id": "OxXrYVjOv8SR"
      },
      "outputs": [],
      "source": [
        "beans = pd.read_excel(\n",
        "    \"./DryBeanDataset/DryBeanDataset/Dry_Bean_Dataset.xlsx\", engine='openpyxl'\n",
        ")\n",
        "# use .head() to see the first 5 row\n",
        "beans.head()"
      ]
    },
    {
      "cell_type": "markdown",
      "metadata": {
        "id": "HtTUJ6xQv8SS"
      },
      "source": [
        "## Knowledge Check\n",
        "\n",
        "Then, see if you can see where the sun it at a certain point in time using the [astropy.get_sun()](https://docs.astropy.org/en/stable/api/astropy.coordinates.get_sun.html#astropy.coordinates.get_sun) and the time as defined by astropy.Time().\n"
      ]
    },
    {
      "cell_type": "code",
      "execution_count": null,
      "metadata": {
        "id": "4iYAroFFv8SS"
      },
      "outputs": [],
      "source": [
        "# install the package"
      ]
    },
    {
      "cell_type": "code",
      "execution_count": null,
      "metadata": {
        "id": "9ICOPUG6v8SS"
      },
      "outputs": [],
      "source": [
        "# import the package"
      ]
    },
    {
      "cell_type": "code",
      "execution_count": null,
      "metadata": {
        "id": "HYYMchDEv8SS"
      },
      "outputs": [],
      "source": [
        "# check the version"
      ]
    },
    {
      "cell_type": "code",
      "execution_count": null,
      "metadata": {
        "id": "Cv5GJ4gZv8SS"
      },
      "outputs": [],
      "source": [
        "# Find the sun's position\n",
        "# given this time object:\n",
        "\n",
        "from astropy.time import Time\n",
        "# For fun, you can also change this to be today's date.\n",
        "current_time = Time('2023-01-01', format='iso')\n",
        "current_time"
      ]
    },
    {
      "cell_type": "code",
      "execution_count": null,
      "metadata": {
        "id": "zCplvdP77DX_"
      },
      "outputs": [],
      "source": [
        "# Find the position of sun!\n",
        "\"?\".get_sun(\"?\")"
      ]
    },
    {
      "cell_type": "markdown",
      "metadata": {
        "id": "dSlbuvlYv8SS"
      },
      "source": [
        "## Challenge\n",
        "\n",
        "Use scikit learn to train a classifier to seperate out a UCI dataset into its classes.\n",
        "Visualize the data beforehand!"
      ]
    },
    {
      "cell_type": "code",
      "execution_count": null,
      "metadata": {
        "id": "cBOWljRpv8ST"
      },
      "outputs": [],
      "source": [
        "import \"?\""
      ]
    },
    {
      "cell_type": "code",
      "execution_count": null,
      "metadata": {
        "id": "spobzR4Zv8ST"
      },
      "outputs": [],
      "source": [
        "! curl \"data url\" --output \"save location\"\n",
        "! unzip \"save location\" \"unzipped location\""
      ]
    },
    {
      "cell_type": "code",
      "execution_count": null,
      "metadata": {
        "id": "6wOn1oC_v8ST"
      },
      "outputs": [],
      "source": [
        "# Load the data\n",
        "loaded_data = pd.read_?(\"?\")\n",
        "features = \"?\"\n",
        "labels = \"?\""
      ]
    },
    {
      "cell_type": "code",
      "execution_count": null,
      "metadata": {
        "id": "FG4j02nnv8ST"
      },
      "outputs": [],
      "source": [
        "# Plot! I've given you a histogram but do whatever you think shows the data best\n",
        "\n",
        "plt.hist(\"?\") # Histogram of the data, documentation is here:\n",
        "# https://matplotlib.org/stable/gallery/statistics/hist.html#histograms\n",
        "plt.title(\"?\")\n",
        "plt.ylabel(\"Frequency\")\n",
        "plt.xlabel(\"?\")\n",
        "plt.show()"
      ]
    },
    {
      "cell_type": "code",
      "execution_count": null,
      "metadata": {
        "id": "n2eZdc4-v8ST"
      },
      "outputs": [],
      "source": [
        "# preprocessing\n",
        "features_train, features_test, labels_train, labels_test = \"?\""
      ]
    },
    {
      "cell_type": "code",
      "execution_count": null,
      "metadata": {
        "id": "EL7mvA9kv8ST"
      },
      "outputs": [],
      "source": [
        "# Fitting and prediction\n",
        "model = \"?\".fit(\"?\")\n",
        "prediction = model.predict(\"?\")"
      ]
    },
    {
      "cell_type": "code",
      "execution_count": null,
      "metadata": {
        "id": "O89KTfH1v8SU"
      },
      "outputs": [],
      "source": [
        "# Evaluate how good your predictions are!\n",
        "\n",
        "score = \"?\"(labels_test, prediction)\n",
        "\n",
        "# Use a plot to visualize those scores:\n",
        "plt.hist(score)\n",
        "plt.ylabel(\"Frequency\")\n",
        "plt.xlabel(\"?\")\n",
        "plt.title(\"?\")\n",
        "\n",
        "plt.show()"
      ]
    },
    {
      "cell_type": "code",
      "execution_count": null,
      "metadata": {
        "id": "jsW4mJmOv8SU"
      },
      "outputs": [],
      "source": [
        "# You can also plot these predictions, let's do it now\n",
        "plt.scatter(\"?\", label_test, label='True')\n",
        "plt.scatter(\"?\", prediction, label='Predict')\n",
        "\n",
        "plt.xlabel(\"?\")\n",
        "plt.ylabel(\"Y\")\n",
        "plt.title(\"?\")\n",
        "\n",
        "plt.\"?\"\n",
        "\n",
        "plt.show()"
      ]
    },
    {
      "cell_type": "markdown",
      "metadata": {
        "id": "9szb7wSr61hj"
      },
      "source": [
        "## Installation"
      ]
    },
    {
      "cell_type": "markdown",
      "metadata": {
        "id": "frB5Q96Y8Ap7"
      },
      "source": [
        "### `python`\n",
        "\n",
        "Right now you may be thinking, \"Don't I already have python installed?\". Probably! However it is best to avoid using the system python for a given operating system. This is primarily because operating systems often have critical tools that rely on the system installation being *just so* and it is better to avoid tampering with it in a way that will cause problems. Also it's likely that the version that ships with your system is not python 3 or a number of other caveats. If you want to use your system python to continue, do so at your own risk. This tutorial will install a fresh python and proceed from there."
      ]
    },
    {
      "cell_type": "markdown",
      "metadata": {
        "id": "fRueO8XC8HHT"
      },
      "source": [
        "<details><summary>\n",
        "\n",
        "#### Aside: system and language level dependencies\n",
        "\n",
        "</summary>\n",
        "\n",
        "Note that some python packages are really wrappers of lower level tools. For instance the `psycopg2` package provides a wrapper for the Postgres database engine. In order to use it you will need a Postgres database running somewhere. It is useful to distinguish these kinds of dependencies, that is, the database engine and the python package. This tutorial will refer to Postgres and similar dependencies as **system level dependencies** and python packages as **language level dependencies**. Installing system level dependencies will differ based on the operating system in use, but this tutorial will endeavor to make sure that, once they are in place, the instructions for the language level dependencies will be the same on each platform. In our case, python is a system level dependency, so we will need to install it.\n",
        "\n",
        "</details>"
      ]
    },
    {
      "cell_type": "markdown",
      "metadata": {
        "id": "iPrLHiWy8RWN"
      },
      "source": [
        "### Installing `python3.11`\n",
        "\n",
        "Find your operating system below and follow the instructions to install a recent version of python 3. After completing these steps you should be able to open a shell session and run `python3.11 --version` to see the version of python that you installed. If this is not working, try starting again from scratch. Failing that, seek assistance. If your operating system is not listed then this tutorial assumes you either already know how to do this or how to find out how to do it. Good luck!"
      ]
    },
    {
      "cell_type": "markdown",
      "metadata": {
        "id": "T9SiJCi98lcx"
      },
      "source": [
        "#### Mac OS\n",
        "\n",
        "Download a [python3.11 for Mac OS][python-macos] installer from python.org. Once `python3.11` is installed, open a shell prompt and run `python3.11 --version` to confirm that it is installed correctly.\n",
        "\n",
        "[python-macos]: https://www.python.org/downloads/macos/"
      ]
    },
    {
      "cell_type": "markdown",
      "metadata": {
        "id": "YBifMgng8sxm"
      },
      "source": [
        "#### Ubuntu\n",
        "\n",
        "In the latest release you should be able to run the following command with no issues (although you may need to run them with `sudo`):\n",
        "\n",
        "```sh\n",
        "apt-get update\n",
        "apt-get --yes install python3.11 python3.11-dev python3-venv\n",
        "```\n",
        "\n",
        "If you are on an older release and see an error like `E: Unable to locate package python3.11` then you may need the assistance of the [deadsnakes PPA][deadsnakes-ppa] project.\n",
        "\n",
        "[deadsnakes-ppa]: https://launchpad.net/~deadsnakes/+archive/ubuntu/ppa"
      ]
    },
    {
      "cell_type": "markdown",
      "metadata": {
        "id": "KOgALHqW_rU4"
      },
      "source": [
        "#### Windows\n",
        "\n",
        "While it is by no means impossible to install python natively within windows and run everything these tutorials will cover locally, there are so many differences in this case and the others that we will punt and suggest that you [enable WSL2 and install Ubuntu][wsl2-ubuntu] and then follow the above Ubuntu instructions.\n",
        "\n",
        "[wsl2-ubuntu]: https://docs.microsoft.com/en-us/windows/wsl/install#install"
      ]
    },
    {
      "cell_type": "markdown",
      "metadata": {
        "id": "MtsIChoO_337"
      },
      "source": [
        "### WARNING: Beyond this point, root will not be required.\n",
        "\n",
        "If you are used to running a command, watching it fail and then running it again with `sudo` in front of it then you should start breaking that habit now. Running `sudo` in improper situations can result in harder to fix problems."
      ]
    },
    {
      "cell_type": "markdown",
      "metadata": {
        "id": "vyJTWIyD__5c"
      },
      "source": [
        "### Python packages and `pip`\n",
        "\n",
        "<details>\n",
        "<summary>\n",
        "<br />\n",
        "\n",
        "What we did in colab requires python modules that are not in the python standard library.  Python packages provide modules that satisfy these sorts of language level dependencies. Installing packages is done with `pip`, which is another command that must be installed at the system level. If you followed the above instructions then you should already have `pip`. Even so, we will call `pip` with the invocation `python3.11 -m pip` as this avoids many common environment related problems.\n",
        "\n",
        "</summary>\n",
        "\n",
        "<a href=\"https://xkcd.com/1987/\"><img src=\"https://imgs.xkcd.com/comics/python_environment.png\" title=\"The Python environmental protection agency wants to seal it in a cement chamber, with pictorial messages to future civilizations warning them about the danger of using sudo to install random Python packages.\"></a>\n",
        "</details>"
      ]
    },
    {
      "cell_type": "markdown",
      "metadata": {
        "id": "X3Szj32xA2JO"
      },
      "source": [
        "<details><summary>\n",
        "\n",
        "#### Aside: How are Anaconda and `conda` different from these steps?\n",
        "\n",
        "</summary>\n",
        "\n",
        "An important point to know is that Anaconda manages both system level and language level dependencies. Anaconda manages any compilation and dependency gathering steps for you, where the approach outlined in this tutorial so far is a more manual one. This trade-off has benefits, particularly when developing your own python packages.\n",
        "\n",
        "You may have used Anaconda before, and you may already have it installed with a version of python 3. If so, great! You probably do not need to install a new version of python. Instead of making a new virtual environment, you may prefer to make a new conda environment.\n",
        "\n",
        "See below for instructions on using `conda` instead.\n",
        "</details>"
      ]
    },
    {
      "cell_type": "markdown",
      "metadata": {
        "id": "dhCqvCM3_6yF"
      },
      "source": [
        "***"
      ]
    },
    {
      "cell_type": "markdown",
      "metadata": {
        "id": "C-YRsUH5ANzE"
      },
      "source": [
        "## Using git"
      ]
    },
    {
      "cell_type": "markdown",
      "metadata": {
        "id": "rRNBOsx6v8SA"
      },
      "source": [
        "### Download the tutorials\n",
        "\n",
        "Run the below cell to download the tutorials.\n",
        "\n",
        "Adding a `!` in front of a line in a cell in a jupyter notebook runs that line as if it is a `bash` command."
      ]
    },
    {
      "cell_type": "code",
      "execution_count": null,
      "metadata": {
        "id": "kSeVL0Jiv8SA"
      },
      "outputs": [],
      "source": [
        "! git clone https://github.com/BNL-Fermi-Summer-School-2023/tutorials"
      ]
    },
    {
      "cell_type": "markdown",
      "metadata": {
        "id": "lyd0Z5sKv8SA"
      },
      "source": [
        "### set up your local work as a git repository\n",
        "\n"
      ]
    },
    {
      "cell_type": "code",
      "execution_count": null,
      "metadata": {
        "id": "LX9Pb02Gv8SB"
      },
      "outputs": [],
      "source": [
        "! git init"
      ]
    },
    {
      "cell_type": "markdown",
      "metadata": {
        "id": "vKysm7gTv8SB"
      },
      "source": [
        "### Store your work by commiting\n",
        "\n"
      ]
    },
    {
      "cell_type": "code",
      "execution_count": null,
      "metadata": {
        "id": "ehObxSv0v8SB"
      },
      "outputs": [],
      "source": [
        "! git add introduction.ipynb\n",
        "! git commit -m \"YOUR MESSAGE HERE!\""
      ]
    },
    {
      "cell_type": "markdown",
      "metadata": {
        "id": "aZrZ9Dwov8SB"
      },
      "source": [
        "## Using python virtual environments"
      ]
    },
    {
      "cell_type": "markdown",
      "metadata": {
        "id": "n9SICTUYAndp"
      },
      "source": [
        "### Set up a virtual envoriment"
      ]
    },
    {
      "cell_type": "markdown",
      "metadata": {
        "id": "bmn0Oo1WAWDD"
      },
      "source": [
        "## Using conda"
      ]
    },
    {
      "cell_type": "markdown",
      "metadata": {
        "id": "8bXwrZ1nv8SB"
      },
      "source": [
        "### Set up a conda env\n"
      ]
    },
    {
      "cell_type": "code",
      "execution_count": null,
      "metadata": {
        "id": "fWPO4vVhv8SC"
      },
      "outputs": [],
      "source": [
        "! conda env [YOUR ENV NAME HERE]"
      ]
    },
    {
      "cell_type": "markdown",
      "metadata": {
        "id": "4m873ff_v8SC"
      },
      "source": [
        "### Add a new package!"
      ]
    },
    {
      "cell_type": "code",
      "execution_count": null,
      "metadata": {
        "id": "FMxFClpjv8SC"
      },
      "outputs": [],
      "source": [
        "! conda activate [THAT SAME ENV NAME]\n",
        "! conda add numpy"
      ]
    },
    {
      "cell_type": "code",
      "execution_count": null,
      "metadata": {
        "id": "rvS7yh5Kv8SR"
      },
      "outputs": [],
      "source": [
        "! conda install -y openpyxl # You need to add openpyxl to your envoriment to use\n",
        "# read_excel. The -y tag makes sure you don't need to confirm any installs\n",
        "\n",
        "# After you install something, and it doesn't show up, you need to restart your kernel"
      ]
    }
  ],
  "metadata": {
    "colab": {
      "provenance": [],
      "toc_visible": true
    },
    "kernelspec": {
      "display_name": "base",
      "language": "python",
      "name": "python3"
    },
    "language_info": {
      "codemirror_mode": {
        "name": "ipython",
        "version": 3
      },
      "file_extension": ".py",
      "mimetype": "text/x-python",
      "name": "python",
      "nbconvert_exporter": "python",
      "pygments_lexer": "ipython3",
      "version": "3.9.13"
    },
    "orig_nbformat": 4,
    "vscode": {
      "interpreter": {
        "hash": "e6819b24f866a1aa258d04ed020a776a62b2936ca77337fe434989dfb9c603cb"
      }
    }
  },
  "nbformat": 4,
  "nbformat_minor": 0
}