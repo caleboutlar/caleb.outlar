{
  "nbformat": 4,
  "nbformat_minor": 0,
  "metadata": {
    "colab": {
      "provenance": [],
      "authorship_tag": "ABX9TyOFzIGZ+C0LTjXE1VIevqmw",
      "include_colab_link": true
    },
    "kernelspec": {
      "name": "python3",
      "display_name": "Python 3"
    },
    "language_info": {
      "name": "python"
    }
  },
  "cells": [
    {
      "cell_type": "markdown",
      "metadata": {
        "id": "view-in-github",
        "colab_type": "text"
      },
      "source": [
        "<a href=\"https://colab.research.google.com/github/caleboutlar/caleb.outlar/blob/master/NSLS_DataAnal2.ipynb\" target=\"_parent\"><img src=\"https://colab.research.google.com/assets/colab-badge.svg\" alt=\"Open In Colab\"/></a>"
      ]
    },
    {
      "cell_type": "code",
      "execution_count": 1,
      "metadata": {
        "id": "HF5ZRKsy0JR5"
      },
      "outputs": [],
      "source": [
        "import matplotlib.pyplot as plt\n",
        "import matplotlib as mpl\n",
        "import numpy as np\n",
        "import pandas as pd\n",
        "import glob as gb\n",
        "import h5py as hp5"
      ]
    },
    {
      "cell_type": "code",
      "source": [
        "h5file =\"/content/bmm_training_data.hdf5\""
      ],
      "metadata": {
        "id": "AqoRngKL1IIf"
      },
      "execution_count": 2,
      "outputs": []
    },
    {
      "cell_type": "code",
      "source": [
        "f = hp5.File(h5file, 'r')"
      ],
      "metadata": {
        "id": "ckh56Zs-1WqB"
      },
      "execution_count": 4,
      "outputs": []
    },
    {
      "cell_type": "code",
      "source": [
        "list(f.keys())"
      ],
      "metadata": {
        "id": "vkWQT_-m18-b"
      },
      "execution_count": null,
      "outputs": []
    },
    {
      "cell_type": "code",
      "source": [
        "list(f.keys())[0]"
      ],
      "metadata": {
        "colab": {
          "base_uri": "https://localhost:8080/",
          "height": 36
        },
        "id": "YQ4ENiwv1dAA",
        "outputId": "d9e5b5cb-7a83-4a2d-e831-03792b449110"
      },
      "execution_count": 6,
      "outputs": [
        {
          "output_type": "execute_result",
          "data": {
            "text/plain": [
              "'001cae78-9614-40e0-962a-37424c86ddbb'"
            ],
            "application/vnd.google.colaboratory.intrinsic+json": {
              "type": "string"
            }
          },
          "metadata": {},
          "execution_count": 6
        }
      ]
    },
    {
      "cell_type": "code",
      "source": [
        "list(f['001cae78-9614-40e0-962a-37424c86ddbb'].attrs)"
      ],
      "metadata": {
        "colab": {
          "base_uri": "https://localhost:8080/"
        },
        "id": "SHPMlfR41h3R",
        "outputId": "0a88c3b4-93ba-4ad3-d191-a63eda273ea1"
      },
      "execution_count": 8,
      "outputs": [
        {
          "output_type": "execute_result",
          "data": {
            "text/plain": [
              "['score']"
            ]
          },
          "metadata": {},
          "execution_count": 8
        }
      ]
    },
    {
      "cell_type": "code",
      "source": [],
      "metadata": {
        "id": "cBnXKNfy1yJc"
      },
      "execution_count": null,
      "outputs": []
    },
    {
      "cell_type": "code",
      "source": [
        "score_list = []\n",
        "data_list = []\n",
        "for key in f.keys():\n",
        "    score_list.append(f[key].attrs['score'])\n",
        "    data_list.append(np.array(f[key]['mu']))\n",
        "\n",
        "score_list = np.array(score_list)\n",
        "data_list = np.array(data_list)"
      ],
      "metadata": {
        "id": "4w4j3nx71DiE"
      },
      "execution_count": 11,
      "outputs": []
    },
    {
      "cell_type": "code",
      "source": [
        "list(f[list(f.keys())[0]].attrs)"
      ],
      "metadata": {
        "colab": {
          "base_uri": "https://localhost:8080/"
        },
        "id": "XCCx-TKv2M6d",
        "outputId": "c9674254-b763-4aba-f785-a9c5491d2378"
      },
      "execution_count": 12,
      "outputs": [
        {
          "output_type": "execute_result",
          "data": {
            "text/plain": [
              "['score']"
            ]
          },
          "metadata": {},
          "execution_count": 12
        }
      ]
    },
    {
      "cell_type": "code",
      "source": [
        "plt.Figure()\n",
        "plt.plot(data_list[50])"
      ],
      "metadata": {
        "colab": {
          "base_uri": "https://localhost:8080/",
          "height": 448
        },
        "id": "zwPrRQBK2clK",
        "outputId": "e6aa4ebf-975f-49f7-c80e-23f9090bce59"
      },
      "execution_count": 13,
      "outputs": [
        {
          "output_type": "execute_result",
          "data": {
            "text/plain": [
              "[<matplotlib.lines.Line2D at 0x7e0713f36bf0>]"
            ]
          },
          "metadata": {},
          "execution_count": 13
        },
        {
          "output_type": "display_data",
          "data": {
            "text/plain": [
              "<Figure size 640x480 with 1 Axes>"
            ],
            "image/png": "[encoded data removed]"
          },
          "metadata": {}
        }
      ]
    },
    {
      "cell_type": "code",
      "source": [
        "plt.Figure()\n",
        "plt.plot(data_list, score_list)"
      ],
      "metadata": {
        "colab": {
          "base_uri": "https://localhost:8080/",
          "height": 1000
        },
        "id": "XA-fkq4a2mYQ",
        "outputId": "1b8b9faf-d503-4194-b611-ebeb9fdeb240"
      },
      "execution_count": 20,
      "outputs": [
        {
          "output_type": "execute_result",
          "data": {
            "text/plain": [
              "[<matplotlib.lines.Line2D at 0x7e0711788f10>,\n",
              " <matplotlib.lines.Line2D at 0x7e0711788f70>,\n",
              " <matplotlib.lines.Line2D at 0x7e0711788fa0>,\n",
              " <matplotlib.lines.Line2D at 0x7e0711789090>,\n",
              " <matplotlib.lines.Line2D at 0x7e0711789180>,\n",
              " <matplotlib.lines.Line2D at 0x7e0711789270>,\n",
              " <matplotlib.lines.Line2D at 0x7e0711789360>,\n",
              " <matplotlib.lines.Line2D at 0x7e0711789450>,\n",
              " <matplotlib.lines.Line2D at 0x7e0711789540>,\n",
              " <matplotlib.lines.Line2D at 0x7e0711789630>,\n",
              " <matplotlib.lines.Line2D at 0x7e0711789720>,\n",
              " <matplotlib.lines.Line2D at 0x7e0711788f40>,\n",
              " <matplotlib.lines.Line2D at 0x7e0711789810>,\n",
              " <matplotlib.lines.Line2D at 0x7e07117899c0>,\n",
              " <matplotlib.lines.Line2D at 0x7e0711789ab0>,\n",
              " <matplotlib.lines.Line2D at 0x7e0711789ba0>,\n",
              " <matplotlib.lines.Line2D at 0x7e0711789c90>,\n",
              " <matplotlib.lines.Line2D at 0x7e0711789d80>,\n",
              " <matplotlib.lines.Line2D at 0x7e0711789e70>,\n",
              " <matplotlib.lines.Line2D at 0x7e0711789f60>,\n",
              " <matplotlib.lines.Line2D at 0x7e071178a050>,\n",
              " <matplotlib.lines.Line2D at 0x7e071178a140>,\n",
              " <matplotlib.lines.Line2D at 0x7e071178a230>,\n",
              " <matplotlib.lines.Line2D at 0x7e071178a320>,\n",
              " <matplotlib.lines.Line2D at 0x7e071178a410>,\n",
              " <matplotlib.lines.Line2D at 0x7e071178a500>,\n",
              " <matplotlib.lines.Line2D at 0x7e071178a5f0>,\n",
              " <matplotlib.lines.Line2D at 0x7e071178a6e0>,\n",
              " <matplotlib.lines.Line2D at 0x7e071178a7d0>,\n",
              " <matplotlib.lines.Line2D at 0x7e071178a8c0>,\n",
              " <matplotlib.lines.Line2D at 0x7e071178a9b0>,\n",
              " <matplotlib.lines.Line2D at 0x7e071178aaa0>,\n",
              " <matplotlib.lines.Line2D at 0x7e071178ab90>,\n",
              " <matplotlib.lines.Line2D at 0x7e071178ac80>,\n",
              " <matplotlib.lines.Line2D at 0x7e071178ad70>,\n",
              " <matplotlib.lines.Line2D at 0x7e071178ae60>,\n",
              " <matplotlib.lines.Line2D at 0x7e071178af50>,\n",
              " <matplotlib.lines.Line2D at 0x7e071178b040>,\n",
              " <matplotlib.lines.Line2D at 0x7e071178b130>,\n",
              " <matplotlib.lines.Line2D at 0x7e071178b220>,\n",
              " <matplotlib.lines.Line2D at 0x7e071178b310>,\n",
              " <matplotlib.lines.Line2D at 0x7e071178b400>,\n",
              " <matplotlib.lines.Line2D at 0x7e071178b4f0>,\n",
              " <matplotlib.lines.Line2D at 0x7e071178b5e0>,\n",
              " <matplotlib.lines.Line2D at 0x7e071178b6d0>,\n",
              " <matplotlib.lines.Line2D at 0x7e071178b7c0>,\n",
              " <matplotlib.lines.Line2D at 0x7e071178b8b0>,\n",
              " <matplotlib.lines.Line2D at 0x7e071178b9a0>,\n",
              " <matplotlib.lines.Line2D at 0x7e071178ba90>,\n",
              " <matplotlib.lines.Line2D at 0x7e071178bb80>,\n",
              " <matplotlib.lines.Line2D at 0x7e071178bc70>,\n",
              " <matplotlib.lines.Line2D at 0x7e071178bd60>,\n",
              " <matplotlib.lines.Line2D at 0x7e071178be50>,\n",
              " <matplotlib.lines.Line2D at 0x7e071178bf40>,\n",
              " <matplotlib.lines.Line2D at 0x7e07115ac070>,\n",
              " <matplotlib.lines.Line2D at 0x7e07115ac160>,\n",
              " <matplotlib.lines.Line2D at 0x7e07115ac250>,\n",
              " <matplotlib.lines.Line2D at 0x7e07115ac340>,\n",
              " <matplotlib.lines.Line2D at 0x7e07115ac430>,\n",
              " <matplotlib.lines.Line2D at 0x7e07115ac520>,\n",
              " <matplotlib.lines.Line2D at 0x7e07115ac610>,\n",
              " <matplotlib.lines.Line2D at 0x7e07115ac700>,\n",
              " <matplotlib.lines.Line2D at 0x7e07115ac7f0>,\n",
              " <matplotlib.lines.Line2D at 0x7e07115ac8e0>,\n",
              " <matplotlib.lines.Line2D at 0x7e07115ac9d0>,\n",
              " <matplotlib.lines.Line2D at 0x7e07115acac0>,\n",
              " <matplotlib.lines.Line2D at 0x7e07115acbb0>,\n",
              " <matplotlib.lines.Line2D at 0x7e07115acca0>,\n",
              " <matplotlib.lines.Line2D at 0x7e07115acd90>,\n",
              " <matplotlib.lines.Line2D at 0x7e07115ace80>,\n",
              " <matplotlib.lines.Line2D at 0x7e07115acf70>,\n",
              " <matplotlib.lines.Line2D at 0x7e07115ad060>,\n",
              " <matplotlib.lines.Line2D at 0x7e07115ad150>,\n",
              " <matplotlib.lines.Line2D at 0x7e07115ad240>,\n",
              " <matplotlib.lines.Line2D at 0x7e07115ad330>,\n",
              " <matplotlib.lines.Line2D at 0x7e07115ad420>,\n",
              " <matplotlib.lines.Line2D at 0x7e07115ad510>,\n",
              " <matplotlib.lines.Line2D at 0x7e07115ad600>,\n",
              " <matplotlib.lines.Line2D at 0x7e07115ad6f0>,\n",
              " <matplotlib.lines.Line2D at 0x7e07115ad7e0>,\n",
              " <matplotlib.lines.Line2D at 0x7e07115ad8d0>,\n",
              " <matplotlib.lines.Line2D at 0x7e07115ad9c0>,\n",
              " <matplotlib.lines.Line2D at 0x7e07115adab0>,\n",
              " <matplotlib.lines.Line2D at 0x7e07115adba0>,\n",
              " <matplotlib.lines.Line2D at 0x7e07115adc90>,\n",
              " <matplotlib.lines.Line2D at 0x7e07115add80>,\n",
              " <matplotlib.lines.Line2D at 0x7e07115ade70>,\n",
              " <matplotlib.lines.Line2D at 0x7e07115adf60>,\n",
              " <matplotlib.lines.Line2D at 0x7e07115ae050>,\n",
              " <matplotlib.lines.Line2D at 0x7e07115ae140>,\n",
              " <matplotlib.lines.Line2D at 0x7e07115ae230>,\n",
              " <matplotlib.lines.Line2D at 0x7e07115ae320>,\n",
              " <matplotlib.lines.Line2D at 0x7e07115ae410>,\n",
              " <matplotlib.lines.Line2D at 0x7e07115ae500>,\n",
              " <matplotlib.lines.Line2D at 0x7e07115ae5f0>,\n",
              " <matplotlib.lines.Line2D at 0x7e07115ae6e0>,\n",
              " <matplotlib.lines.Line2D at 0x7e07115ae7d0>,\n",
              " <matplotlib.lines.Line2D at 0x7e07115ae8c0>,\n",
              " <matplotlib.lines.Line2D at 0x7e07115ae9b0>,\n",
              " <matplotlib.lines.Line2D at 0x7e07115aeaa0>,\n",
              " <matplotlib.lines.Line2D at 0x7e07115aeb90>,\n",
              " <matplotlib.lines.Line2D at 0x7e07115aec80>,\n",
              " <matplotlib.lines.Line2D at 0x7e07115aed70>,\n",
              " <matplotlib.lines.Line2D at 0x7e07115aee60>,\n",
              " <matplotlib.lines.Line2D at 0x7e07115aef50>,\n",
              " <matplotlib.lines.Line2D at 0x7e07115af040>,\n",
              " <matplotlib.lines.Line2D at 0x7e07115af130>,\n",
              " <matplotlib.lines.Line2D at 0x7e07115af220>,\n",
              " <matplotlib.lines.Line2D at 0x7e07115af310>,\n",
              " <matplotlib.lines.Line2D at 0x7e07115af400>,\n",
              " <matplotlib.lines.Line2D at 0x7e07115af4f0>,\n",
              " <matplotlib.lines.Line2D at 0x7e07115af5e0>,\n",
              " <matplotlib.lines.Line2D at 0x7e07115af6d0>,\n",
              " <matplotlib.lines.Line2D at 0x7e07115af7c0>,\n",
              " <matplotlib.lines.Line2D at 0x7e07115af8b0>,\n",
              " <matplotlib.lines.Line2D at 0x7e07115af9a0>,\n",
              " <matplotlib.lines.Line2D at 0x7e07115afa90>,\n",
              " <matplotlib.lines.Line2D at 0x7e07115afb80>,\n",
              " <matplotlib.lines.Line2D at 0x7e07115afc70>,\n",
              " <matplotlib.lines.Line2D at 0x7e07115afd60>,\n",
              " <matplotlib.lines.Line2D at 0x7e07115afe50>,\n",
              " <matplotlib.lines.Line2D at 0x7e07115aff40>,\n",
              " <matplotlib.lines.Line2D at 0x7e07115c8070>,\n",
              " <matplotlib.lines.Line2D at 0x7e07115c8160>,\n",
              " <matplotlib.lines.Line2D at 0x7e07115c8250>,\n",
              " <matplotlib.lines.Line2D at 0x7e07115c8340>,\n",
              " <matplotlib.lines.Line2D at 0x7e07115c8430>,\n",
              " <matplotlib.lines.Line2D at 0x7e07115c8520>,\n",
              " <matplotlib.lines.Line2D at 0x7e07115c8610>,\n",
              " <matplotlib.lines.Line2D at 0x7e07115c8700>,\n",
              " <matplotlib.lines.Line2D at 0x7e07115c87f0>,\n",
              " <matplotlib.lines.Line2D at 0x7e07115c88e0>,\n",
              " <matplotlib.lines.Line2D at 0x7e07115c89d0>,\n",
              " <matplotlib.lines.Line2D at 0x7e07115c8ac0>,\n",
              " <matplotlib.lines.Line2D at 0x7e07115c8bb0>,\n",
              " <matplotlib.lines.Line2D at 0x7e07115c8ca0>,\n",
              " <matplotlib.lines.Line2D at 0x7e07115c8d90>,\n",
              " <matplotlib.lines.Line2D at 0x7e07115c8e80>,\n",
              " <matplotlib.lines.Line2D at 0x7e07115c8f70>,\n",
              " <matplotlib.lines.Line2D at 0x7e07115c9060>,\n",
              " <matplotlib.lines.Line2D at 0x7e07115c9150>,\n",
              " <matplotlib.lines.Line2D at 0x7e07115c9240>,\n",
              " <matplotlib.lines.Line2D at 0x7e07115c9330>,\n",
              " <matplotlib.lines.Line2D at 0x7e07115c9420>,\n",
              " <matplotlib.lines.Line2D at 0x7e07115c9510>,\n",
              " <matplotlib.lines.Line2D at 0x7e07115c9600>,\n",
              " <matplotlib.lines.Line2D at 0x7e07115c96f0>,\n",
              " <matplotlib.lines.Line2D at 0x7e07115c97e0>,\n",
              " <matplotlib.lines.Line2D at 0x7e07115c98d0>,\n",
              " <matplotlib.lines.Line2D at 0x7e07115c99c0>,\n",
              " <matplotlib.lines.Line2D at 0x7e07115c9ab0>,\n",
              " <matplotlib.lines.Line2D at 0x7e07115c9ba0>,\n",
              " <matplotlib.lines.Line2D at 0x7e07115c9c90>,\n",
              " <matplotlib.lines.Line2D at 0x7e07115c9d80>,\n",
              " <matplotlib.lines.Line2D at 0x7e07115c9e70>,\n",
              " <matplotlib.lines.Line2D at 0x7e07115c9f60>,\n",
              " <matplotlib.lines.Line2D at 0x7e07115ca050>,\n",
              " <matplotlib.lines.Line2D at 0x7e07115ca140>,\n",
              " <matplotlib.lines.Line2D at 0x7e07115ca230>,\n",
              " <matplotlib.lines.Line2D at 0x7e07115ca320>,\n",
              " <matplotlib.lines.Line2D at 0x7e07115ca410>,\n",
              " <matplotlib.lines.Line2D at 0x7e07115ca500>,\n",
              " <matplotlib.lines.Line2D at 0x7e07115ca5f0>,\n",
              " <matplotlib.lines.Line2D at 0x7e07115ca6e0>,\n",
              " <matplotlib.lines.Line2D at 0x7e07115ca7d0>,\n",
              " <matplotlib.lines.Line2D at 0x7e07115ca8c0>,\n",
              " <matplotlib.lines.Line2D at 0x7e07115ca9b0>,\n",
              " <matplotlib.lines.Line2D at 0x7e07115caaa0>,\n",
              " <matplotlib.lines.Line2D at 0x7e0711763eb0>,\n",
              " <matplotlib.lines.Line2D at 0x7e0711763ee0>,\n",
              " <matplotlib.lines.Line2D at 0x7e0711763f10>,\n",
              " <matplotlib.lines.Line2D at 0x7e0711762680>,\n",
              " <matplotlib.lines.Line2D at 0x7e0711694460>,\n",
              " <matplotlib.lines.Line2D at 0x7e0711694880>,\n",
              " <matplotlib.lines.Line2D at 0x7e0711696440>,\n",
              " <matplotlib.lines.Line2D at 0x7e07115cab90>,\n",
              " <matplotlib.lines.Line2D at 0x7e07115cad70>,\n",
              " <matplotlib.lines.Line2D at 0x7e07115cae60>,\n",
              " <matplotlib.lines.Line2D at 0x7e07115caf50>,\n",
              " <matplotlib.lines.Line2D at 0x7e07115cb040>,\n",
              " <matplotlib.lines.Line2D at 0x7e07115cb130>,\n",
              " <matplotlib.lines.Line2D at 0x7e07115cb220>,\n",
              " <matplotlib.lines.Line2D at 0x7e07115cb310>,\n",
              " <matplotlib.lines.Line2D at 0x7e07115cb400>,\n",
              " <matplotlib.lines.Line2D at 0x7e07115cb4f0>,\n",
              " <matplotlib.lines.Line2D at 0x7e07115cb5e0>,\n",
              " <matplotlib.lines.Line2D at 0x7e07115cb6d0>,\n",
              " <matplotlib.lines.Line2D at 0x7e07115cb7c0>,\n",
              " <matplotlib.lines.Line2D at 0x7e07115cb8b0>,\n",
              " <matplotlib.lines.Line2D at 0x7e07115cb9a0>,\n",
              " <matplotlib.lines.Line2D at 0x7e07115cba90>,\n",
              " <matplotlib.lines.Line2D at 0x7e07115cbb80>,\n",
              " <matplotlib.lines.Line2D at 0x7e07115cbc70>,\n",
              " <matplotlib.lines.Line2D at 0x7e07115cbd60>,\n",
              " <matplotlib.lines.Line2D at 0x7e07115cbe50>,\n",
              " <matplotlib.lines.Line2D at 0x7e07115cbf40>,\n",
              " <matplotlib.lines.Line2D at 0x7e07115f8070>,\n",
              " <matplotlib.lines.Line2D at 0x7e07115f8160>,\n",
              " <matplotlib.lines.Line2D at 0x7e07115f8250>,\n",
              " <matplotlib.lines.Line2D at 0x7e07115f8340>,\n",
              " <matplotlib.lines.Line2D at 0x7e07115f8430>,\n",
              " <matplotlib.lines.Line2D at 0x7e07115f8520>,\n",
              " <matplotlib.lines.Line2D at 0x7e07115f8610>,\n",
              " <matplotlib.lines.Line2D at 0x7e07115f8700>,\n",
              " <matplotlib.lines.Line2D at 0x7e07115f87f0>,\n",
              " <matplotlib.lines.Line2D at 0x7e07115f88e0>,\n",
              " <matplotlib.lines.Line2D at 0x7e07115f89d0>,\n",
              " <matplotlib.lines.Line2D at 0x7e07115f8ac0>,\n",
              " <matplotlib.lines.Line2D at 0x7e07115f8bb0>,\n",
              " <matplotlib.lines.Line2D at 0x7e07115f8ca0>,\n",
              " <matplotlib.lines.Line2D at 0x7e07115f8d90>,\n",
              " <matplotlib.lines.Line2D at 0x7e07115f8e80>,\n",
              " <matplotlib.lines.Line2D at 0x7e07115f8f70>,\n",
              " <matplotlib.lines.Line2D at 0x7e07115f9060>,\n",
              " <matplotlib.lines.Line2D at 0x7e07115f9150>,\n",
              " <matplotlib.lines.Line2D at 0x7e07115f9240>,\n",
              " <matplotlib.lines.Line2D at 0x7e07115f9330>,\n",
              " <matplotlib.lines.Line2D at 0x7e07115f9420>,\n",
              " <matplotlib.lines.Line2D at 0x7e07115f9510>,\n",
              " <matplotlib.lines.Line2D at 0x7e07115f9600>,\n",
              " <matplotlib.lines.Line2D at 0x7e07115f96f0>,\n",
              " <matplotlib.lines.Line2D at 0x7e07115f97e0>,\n",
              " <matplotlib.lines.Line2D at 0x7e07115f98d0>,\n",
              " <matplotlib.lines.Line2D at 0x7e07115f99c0>,\n",
              " <matplotlib.lines.Line2D at 0x7e07115f9ab0>,\n",
              " <matplotlib.lines.Line2D at 0x7e07115f9ba0>,\n",
              " <matplotlib.lines.Line2D at 0x7e07115f9c90>,\n",
              " <matplotlib.lines.Line2D at 0x7e07115f9d80>,\n",
              " <matplotlib.lines.Line2D at 0x7e07115f9e70>,\n",
              " <matplotlib.lines.Line2D at 0x7e07115f9f60>,\n",
              " <matplotlib.lines.Line2D at 0x7e07115fa050>,\n",
              " <matplotlib.lines.Line2D at 0x7e07115fa140>,\n",
              " <matplotlib.lines.Line2D at 0x7e07115fa230>,\n",
              " <matplotlib.lines.Line2D at 0x7e07115fa320>,\n",
              " <matplotlib.lines.Line2D at 0x7e07115fa410>,\n",
              " <matplotlib.lines.Line2D at 0x7e07115fa500>,\n",
              " <matplotlib.lines.Line2D at 0x7e07115fa5f0>,\n",
              " <matplotlib.lines.Line2D at 0x7e07115fa6e0>,\n",
              " <matplotlib.lines.Line2D at 0x7e07115fa7d0>,\n",
              " <matplotlib.lines.Line2D at 0x7e07115fa8c0>,\n",
              " <matplotlib.lines.Line2D at 0x7e07115fa9b0>,\n",
              " <matplotlib.lines.Line2D at 0x7e07115faaa0>,\n",
              " <matplotlib.lines.Line2D at 0x7e07115fab90>,\n",
              " <matplotlib.lines.Line2D at 0x7e07115fac80>,\n",
              " <matplotlib.lines.Line2D at 0x7e07115fad70>,\n",
              " <matplotlib.lines.Line2D at 0x7e07115fae60>,\n",
              " <matplotlib.lines.Line2D at 0x7e07115faf50>,\n",
              " <matplotlib.lines.Line2D at 0x7e07115fb040>,\n",
              " <matplotlib.lines.Line2D at 0x7e07115fb130>,\n",
              " <matplotlib.lines.Line2D at 0x7e07115fb220>,\n",
              " <matplotlib.lines.Line2D at 0x7e07115fb310>,\n",
              " <matplotlib.lines.Line2D at 0x7e07115fb400>,\n",
              " <matplotlib.lines.Line2D at 0x7e07115fb4f0>,\n",
              " <matplotlib.lines.Line2D at 0x7e07115fb5e0>,\n",
              " <matplotlib.lines.Line2D at 0x7e07115fb6d0>,\n",
              " <matplotlib.lines.Line2D at 0x7e07115fb7c0>,\n",
              " <matplotlib.lines.Line2D at 0x7e07115fb8b0>,\n",
              " <matplotlib.lines.Line2D at 0x7e07115fb9a0>,\n",
              " <matplotlib.lines.Line2D at 0x7e07115fba90>,\n",
              " <matplotlib.lines.Line2D at 0x7e07115fbb80>,\n",
              " <matplotlib.lines.Line2D at 0x7e07115fbc70>,\n",
              " <matplotlib.lines.Line2D at 0x7e07115fbd60>,\n",
              " <matplotlib.lines.Line2D at 0x7e07115fbe50>,\n",
              " <matplotlib.lines.Line2D at 0x7e07115fbf40>,\n",
              " <matplotlib.lines.Line2D at 0x7e0711614070>,\n",
              " <matplotlib.lines.Line2D at 0x7e0711614160>,\n",
              " <matplotlib.lines.Line2D at 0x7e0711614250>,\n",
              " <matplotlib.lines.Line2D at 0x7e0711614340>,\n",
              " <matplotlib.lines.Line2D at 0x7e0711614430>,\n",
              " <matplotlib.lines.Line2D at 0x7e0711614520>,\n",
              " <matplotlib.lines.Line2D at 0x7e0711614610>,\n",
              " <matplotlib.lines.Line2D at 0x7e0711614700>,\n",
              " <matplotlib.lines.Line2D at 0x7e07116147f0>,\n",
              " <matplotlib.lines.Line2D at 0x7e07116148e0>,\n",
              " <matplotlib.lines.Line2D at 0x7e07116149d0>,\n",
              " <matplotlib.lines.Line2D at 0x7e0711614ac0>,\n",
              " <matplotlib.lines.Line2D at 0x7e0711614bb0>,\n",
              " <matplotlib.lines.Line2D at 0x7e0711614ca0>,\n",
              " <matplotlib.lines.Line2D at 0x7e0711614d90>,\n",
              " <matplotlib.lines.Line2D at 0x7e0711614e80>,\n",
              " <matplotlib.lines.Line2D at 0x7e0711614f70>,\n",
              " <matplotlib.lines.Line2D at 0x7e0711615060>,\n",
              " <matplotlib.lines.Line2D at 0x7e0711615150>,\n",
              " <matplotlib.lines.Line2D at 0x7e0711615240>,\n",
              " <matplotlib.lines.Line2D at 0x7e0711615330>,\n",
              " <matplotlib.lines.Line2D at 0x7e0711615420>,\n",
              " <matplotlib.lines.Line2D at 0x7e0711615510>,\n",
              " <matplotlib.lines.Line2D at 0x7e0711615600>,\n",
              " <matplotlib.lines.Line2D at 0x7e07116156f0>,\n",
              " <matplotlib.lines.Line2D at 0x7e07116157e0>,\n",
              " <matplotlib.lines.Line2D at 0x7e07116158d0>,\n",
              " <matplotlib.lines.Line2D at 0x7e07116159c0>,\n",
              " <matplotlib.lines.Line2D at 0x7e0711615ab0>,\n",
              " <matplotlib.lines.Line2D at 0x7e0711615ba0>,\n",
              " <matplotlib.lines.Line2D at 0x7e0711615c90>,\n",
              " <matplotlib.lines.Line2D at 0x7e0711615d80>,\n",
              " <matplotlib.lines.Line2D at 0x7e0711615e70>,\n",
              " <matplotlib.lines.Line2D at 0x7e0711615f60>,\n",
              " <matplotlib.lines.Line2D at 0x7e0711616050>,\n",
              " <matplotlib.lines.Line2D at 0x7e0711616140>,\n",
              " <matplotlib.lines.Line2D at 0x7e0711616230>,\n",
              " <matplotlib.lines.Line2D at 0x7e0711616320>,\n",
              " <matplotlib.lines.Line2D at 0x7e0711616410>,\n",
              " <matplotlib.lines.Line2D at 0x7e0711616500>,\n",
              " <matplotlib.lines.Line2D at 0x7e07116165f0>,\n",
              " <matplotlib.lines.Line2D at 0x7e07116166e0>,\n",
              " <matplotlib.lines.Line2D at 0x7e07116167d0>,\n",
              " <matplotlib.lines.Line2D at 0x7e07116168c0>,\n",
              " <matplotlib.lines.Line2D at 0x7e07116169b0>,\n",
              " <matplotlib.lines.Line2D at 0x7e0711616aa0>,\n",
              " <matplotlib.lines.Line2D at 0x7e0711616b90>,\n",
              " <matplotlib.lines.Line2D at 0x7e0711616c80>,\n",
              " <matplotlib.lines.Line2D at 0x7e0711616d70>,\n",
              " <matplotlib.lines.Line2D at 0x7e0711616e60>,\n",
              " <matplotlib.lines.Line2D at 0x7e0711616f50>,\n",
              " <matplotlib.lines.Line2D at 0x7e0711617040>,\n",
              " <matplotlib.lines.Line2D at 0x7e0711617130>,\n",
              " <matplotlib.lines.Line2D at 0x7e0711617220>,\n",
              " <matplotlib.lines.Line2D at 0x7e0711617310>,\n",
              " <matplotlib.lines.Line2D at 0x7e0711617400>,\n",
              " <matplotlib.lines.Line2D at 0x7e07116174f0>,\n",
              " <matplotlib.lines.Line2D at 0x7e07116175e0>,\n",
              " <matplotlib.lines.Line2D at 0x7e07116176d0>,\n",
              " <matplotlib.lines.Line2D at 0x7e07116177c0>,\n",
              " <matplotlib.lines.Line2D at 0x7e07116178b0>,\n",
              " <matplotlib.lines.Line2D at 0x7e07116179a0>,\n",
              " <matplotlib.lines.Line2D at 0x7e0711617a90>,\n",
              " <matplotlib.lines.Line2D at 0x7e0711617b80>,\n",
              " <matplotlib.lines.Line2D at 0x7e0711617c70>,\n",
              " <matplotlib.lines.Line2D at 0x7e0711617d60>,\n",
              " <matplotlib.lines.Line2D at 0x7e0711617e50>,\n",
              " <matplotlib.lines.Line2D at 0x7e0711617f40>,\n",
              " <matplotlib.lines.Line2D at 0x7e0711634070>,\n",
              " <matplotlib.lines.Line2D at 0x7e0711634160>,\n",
              " <matplotlib.lines.Line2D at 0x7e0711634250>,\n",
              " <matplotlib.lines.Line2D at 0x7e0711634340>,\n",
              " <matplotlib.lines.Line2D at 0x7e0711634430>,\n",
              " <matplotlib.lines.Line2D at 0x7e0711634520>,\n",
              " <matplotlib.lines.Line2D at 0x7e0711634610>,\n",
              " <matplotlib.lines.Line2D at 0x7e0711634700>,\n",
              " <matplotlib.lines.Line2D at 0x7e07116347f0>,\n",
              " <matplotlib.lines.Line2D at 0x7e07116348e0>,\n",
              " <matplotlib.lines.Line2D at 0x7e07116349d0>,\n",
              " <matplotlib.lines.Line2D at 0x7e0711634ac0>,\n",
              " <matplotlib.lines.Line2D at 0x7e0711634bb0>,\n",
              " <matplotlib.lines.Line2D at 0x7e0711634ca0>,\n",
              " <matplotlib.lines.Line2D at 0x7e0711634d90>,\n",
              " <matplotlib.lines.Line2D at 0x7e0711634e80>,\n",
              " <matplotlib.lines.Line2D at 0x7e0711634f70>,\n",
              " <matplotlib.lines.Line2D at 0x7e0711635060>,\n",
              " <matplotlib.lines.Line2D at 0x7e0711635150>,\n",
              " <matplotlib.lines.Line2D at 0x7e0711635240>,\n",
              " <matplotlib.lines.Line2D at 0x7e0711635330>,\n",
              " <matplotlib.lines.Line2D at 0x7e0711635420>,\n",
              " <matplotlib.lines.Line2D at 0x7e0711635510>,\n",
              " <matplotlib.lines.Line2D at 0x7e0711635600>,\n",
              " <matplotlib.lines.Line2D at 0x7e07116356f0>,\n",
              " <matplotlib.lines.Line2D at 0x7e07116357e0>,\n",
              " <matplotlib.lines.Line2D at 0x7e07116358d0>,\n",
              " <matplotlib.lines.Line2D at 0x7e07116359c0>,\n",
              " <matplotlib.lines.Line2D at 0x7e0711635ab0>,\n",
              " <matplotlib.lines.Line2D at 0x7e0711635ba0>,\n",
              " <matplotlib.lines.Line2D at 0x7e0711635c90>,\n",
              " <matplotlib.lines.Line2D at 0x7e0711635d80>,\n",
              " <matplotlib.lines.Line2D at 0x7e0711635e70>,\n",
              " <matplotlib.lines.Line2D at 0x7e0711635f60>,\n",
              " <matplotlib.lines.Line2D at 0x7e0711636050>,\n",
              " <matplotlib.lines.Line2D at 0x7e0711636140>,\n",
              " <matplotlib.lines.Line2D at 0x7e0711636230>,\n",
              " <matplotlib.lines.Line2D at 0x7e0711636320>,\n",
              " <matplotlib.lines.Line2D at 0x7e0711636410>,\n",
              " <matplotlib.lines.Line2D at 0x7e0711636500>,\n",
              " <matplotlib.lines.Line2D at 0x7e07116365f0>,\n",
              " <matplotlib.lines.Line2D at 0x7e07116366e0>,\n",
              " <matplotlib.lines.Line2D at 0x7e07116367d0>,\n",
              " <matplotlib.lines.Line2D at 0x7e07116368c0>,\n",
              " <matplotlib.lines.Line2D at 0x7e07116369b0>,\n",
              " <matplotlib.lines.Line2D at 0x7e0711636aa0>,\n",
              " <matplotlib.lines.Line2D at 0x7e0711636b90>,\n",
              " <matplotlib.lines.Line2D at 0x7e0711636c80>,\n",
              " <matplotlib.lines.Line2D at 0x7e0711636d70>,\n",
              " <matplotlib.lines.Line2D at 0x7e0711636e60>,\n",
              " <matplotlib.lines.Line2D at 0x7e0711636f50>,\n",
              " <matplotlib.lines.Line2D at 0x7e0711637040>,\n",
              " <matplotlib.lines.Line2D at 0x7e0711637130>,\n",
              " <matplotlib.lines.Line2D at 0x7e0711637220>,\n",
              " <matplotlib.lines.Line2D at 0x7e0711637310>,\n",
              " <matplotlib.lines.Line2D at 0x7e0711637400>,\n",
              " <matplotlib.lines.Line2D at 0x7e07116374f0>,\n",
              " <matplotlib.lines.Line2D at 0x7e07116375e0>,\n",
              " <matplotlib.lines.Line2D at 0x7e07116376d0>,\n",
              " <matplotlib.lines.Line2D at 0x7e07116377c0>,\n",
              " <matplotlib.lines.Line2D at 0x7e07116378b0>,\n",
              " <matplotlib.lines.Line2D at 0x7e07116379a0>,\n",
              " <matplotlib.lines.Line2D at 0x7e0711637a90>,\n",
              " <matplotlib.lines.Line2D at 0x7e0711637b80>,\n",
              " <matplotlib.lines.Line2D at 0x7e0711637c70>,\n",
              " <matplotlib.lines.Line2D at 0x7e0711637d60>,\n",
              " <matplotlib.lines.Line2D at 0x7e0711637e50>,\n",
              " <matplotlib.lines.Line2D at 0x7e0711637f40>,\n",
              " <matplotlib.lines.Line2D at 0x7e0711658070>]"
            ]
          },
          "metadata": {},
          "execution_count": 20
        },
        {
          "output_type": "display_data",
          "data": {
            "text/plain": [
              "<Figure size 640x480 with 1 Axes>"
            ],
            "image/png": "[encoded data removed]"
          },
          "metadata": {}
        }
      ]
    },
    {
      "cell_type": "code",
      "source": [
        "my_datf = pd.DataFrame(data_list, index=score_list).T"
      ],
      "metadata": {
        "id": "qpfvvtAV3wmP"
      },
      "execution_count": 23,
      "outputs": []
    },
    {
      "cell_type": "code",
      "source": [
        "plt.Figure()\n",
        "plt.subplot(211)\n",
        "plt.plot(my_datf.loc[:,1].mean(axis=1))\n",
        "plt.subplot(212)\n",
        "plt.plot(my_datf.loc[:,0].sample(axis=1))"
      ],
      "metadata": {
        "colab": {
          "base_uri": "https://localhost:8080/",
          "height": 448
        },
        "id": "8uN5z98w3gdj",
        "outputId": "b370f6da-bbb1-42e9-de9c-1d19d1a265ef"
      },
      "execution_count": 24,
      "outputs": [
        {
          "output_type": "execute_result",
          "data": {
            "text/plain": [
              "[<matplotlib.lines.Line2D at 0x7e071121df30>]"
            ]
          },
          "metadata": {},
          "execution_count": 24
        },
        {
          "output_type": "display_data",
          "data": {
            "text/plain": [
              "<Figure size 640x480 with 2 Axes>"
            ],
            "image/png": "[encoded data removed]"
          },
          "metadata": {}
        }
      ]
    },
    {
      "cell_type": "code",
      "source": [
        "import scipy as sp"
      ],
      "metadata": {
        "id": "1ybzm3Et3ljZ"
      },
      "execution_count": 47,
      "outputs": []
    },
    {
      "cell_type": "code",
      "source": [
        "import scipy.cluster.hierarchy as shc\n",
        "from sklearn.ensemble import RandomForestClassifier\n",
        "from sklearn.neural_network import MLPClassifier\n",
        "from sklearn.preprocessing import StandardScaler\n",
        "\n",
        "from sklearn.model_selection import train_test_split"
      ],
      "metadata": {
        "id": "U3XEf87a4gnD"
      },
      "execution_count": 46,
      "outputs": []
    },
    {
      "cell_type": "code",
      "source": [
        "trainX, X, trainy, y = train_test_split(data_list, score_list, random_state=0)\n",
        "scaler = StandardScaler()\n",
        "scaler.fit(trainX)"
      ],
      "metadata": {
        "colab": {
          "base_uri": "https://localhost:8080/",
          "height": 74
        },
        "id": "L0rtbV7N4jS4",
        "outputId": "44855bbc-6695-4881-a3cf-c995786a4b4b"
      },
      "execution_count": 50,
      "outputs": [
        {
          "output_type": "execute_result",
          "data": {
            "text/plain": [
              "StandardScaler()"
            ],
            "text/html": [
              "<style>#sk-container-id-2 {color: black;background-color: white;}#sk-container-id-2 pre{padding: 0;}#sk-container-id-2 div.sk-toggleable {background-color: white;}#sk-container-id-2 label.sk-toggleable__label {cursor: pointer;display: block;width: 100%;margin-bottom: 0;padding: 0.3em;box-sizing: border-box;text-align: center;}#sk-container-id-2 label.sk-toggleable__label-arrow:before {content: \"▸\";float: left;margin-right: 0.25em;color: #696969;}#sk-container-id-2 label.sk-toggleable__label-arrow:hover:before {color: black;}#sk-container-id-2 div.sk-estimator:hover label.sk-toggleable__label-arrow:before {color: black;}#sk-container-id-2 div.sk-toggleable__content {max-height: 0;max-width: 0;overflow: hidden;text-align: left;background-color: #f0f8ff;}#sk-container-id-2 div.sk-toggleable__content pre {margin: 0.2em;color: black;border-radius: 0.25em;background-color: #f0f8ff;}#sk-container-id-2 input.sk-toggleable__control:checked~div.sk-toggleable__content {max-height: 200px;max-width: 100%;overflow: auto;}#sk-container-id-2 input.sk-toggleable__control:checked~label.sk-toggleable__label-arrow:before {content: \"▾\";}#sk-container-id-2 div.sk-estimator input.sk-toggleable__control:checked~label.sk-toggleable__label {background-color: #d4ebff;}#sk-container-id-2 div.sk-label input.sk-toggleable__control:checked~label.sk-toggleable__label {background-color: #d4ebff;}#sk-container-id-2 input.sk-hidden--visually {border: 0;clip: rect(1px 1px 1px 1px);clip: rect(1px, 1px, 1px, 1px);height: 1px;margin: -1px;overflow: hidden;padding: 0;position: absolute;width: 1px;}#sk-container-id-2 div.sk-estimator {font-family: monospace;background-color: #f0f8ff;border: 1px dotted black;border-radius: 0.25em;box-sizing: border-box;margin-bottom: 0.5em;}#sk-container-id-2 div.sk-estimator:hover {background-color: #d4ebff;}#sk-container-id-2 div.sk-parallel-item::after {content: \"\";width: 100%;border-bottom: 1px solid gray;flex-grow: 1;}#sk-container-id-2 div.sk-label:hover label.sk-toggleable__label {background-color: #d4ebff;}#sk-container-id-2 div.sk-serial::before {content: \"\";position: absolute;border-left: 1px solid gray;box-sizing: border-box;top: 0;bottom: 0;left: 50%;z-index: 0;}#sk-container-id-2 div.sk-serial {display: flex;flex-direction: column;align-items: center;background-color: white;padding-right: 0.2em;padding-left: 0.2em;position: relative;}#sk-container-id-2 div.sk-item {position: relative;z-index: 1;}#sk-container-id-2 div.sk-parallel {display: flex;align-items: stretch;justify-content: center;background-color: white;position: relative;}#sk-container-id-2 div.sk-item::before, #sk-container-id-2 div.sk-parallel-item::before {content: \"\";position: absolute;border-left: 1px solid gray;box-sizing: border-box;top: 0;bottom: 0;left: 50%;z-index: -1;}#sk-container-id-2 div.sk-parallel-item {display: flex;flex-direction: column;z-index: 1;position: relative;background-color: white;}#sk-container-id-2 div.sk-parallel-item:first-child::after {align-self: flex-end;width: 50%;}#sk-container-id-2 div.sk-parallel-item:last-child::after {align-self: flex-start;width: 50%;}#sk-container-id-2 div.sk-parallel-item:only-child::after {width: 0;}#sk-container-id-2 div.sk-dashed-wrapped {border: 1px dashed gray;margin: 0 0.4em 0.5em 0.4em;box-sizing: border-box;padding-bottom: 0.4em;background-color: white;}#sk-container-id-2 div.sk-label label {font-family: monospace;font-weight: bold;display: inline-block;line-height: 1.2em;}#sk-container-id-2 div.sk-label-container {text-align: center;}#sk-container-id-2 div.sk-container {/* jupyter's `normalize.less` sets `[hidden] { display: none; }` but bootstrap.min.css set `[hidden] { display: none !important; }` so we also need the `!important` here to be able to override the default hidden behavior on the sphinx rendered scikit-learn.org. See: https://github.com/scikit-learn/scikit-learn/issues/21755 */display: inline-block !important;position: relative;}#sk-container-id-2 div.sk-text-repr-fallback {display: none;}</style><div id=\"sk-container-id-2\" class=\"sk-top-container\"><div class=\"sk-text-repr-fallback\"><pre>StandardScaler()</pre><b>In a Jupyter environment, please rerun this cell to show the HTML representation or trust the notebook. <br />On GitHub, the HTML representation is unable to render, please try loading this page with nbviewer.org.</b></div><div class=\"sk-container\" hidden><div class=\"sk-item\"><div class=\"sk-estimator sk-toggleable\"><input class=\"sk-toggleable__control sk-hidden--visually\" id=\"sk-estimator-id-2\" type=\"checkbox\" checked><label for=\"sk-estimator-id-2\" class=\"sk-toggleable__label sk-toggleable__label-arrow\">StandardScaler</label><div class=\"sk-toggleable__content\"><pre>StandardScaler()</pre></div></div></div></div></div>"
            ]
          },
          "metadata": {},
          "execution_count": 50
        }
      ]
    },
    {
      "cell_type": "code",
      "source": [
        "clf = RandomForestClassifier(random_state=0)\n",
        "clf.fit(scaler.transform(trainX), trainy)"
      ],
      "metadata": {
        "colab": {
          "base_uri": "https://localhost:8080/",
          "height": 74
        },
        "id": "VIrIekCr8jxA",
        "outputId": "20760f06-f4a3-4457-ccd7-b1122e12744e"
      },
      "execution_count": 70,
      "outputs": [
        {
          "output_type": "execute_result",
          "data": {
            "text/plain": [
              "RandomForestClassifier(random_state=0)"
            ],
            "text/html": [
              "<style>#sk-container-id-5 {color: black;background-color: white;}#sk-container-id-5 pre{padding: 0;}#sk-container-id-5 div.sk-toggleable {background-color: white;}#sk-container-id-5 label.sk-toggleable__label {cursor: pointer;display: block;width: 100%;margin-bottom: 0;padding: 0.3em;box-sizing: border-box;text-align: center;}#sk-container-id-5 label.sk-toggleable__label-arrow:before {content: \"▸\";float: left;margin-right: 0.25em;color: #696969;}#sk-container-id-5 label.sk-toggleable__label-arrow:hover:before {color: black;}#sk-container-id-5 div.sk-estimator:hover label.sk-toggleable__label-arrow:before {color: black;}#sk-container-id-5 div.sk-toggleable__content {max-height: 0;max-width: 0;overflow: hidden;text-align: left;background-color: #f0f8ff;}#sk-container-id-5 div.sk-toggleable__content pre {margin: 0.2em;color: black;border-radius: 0.25em;background-color: #f0f8ff;}#sk-container-id-5 input.sk-toggleable__control:checked~div.sk-toggleable__content {max-height: 200px;max-width: 100%;overflow: auto;}#sk-container-id-5 input.sk-toggleable__control:checked~label.sk-toggleable__label-arrow:before {content: \"▾\";}#sk-container-id-5 div.sk-estimator input.sk-toggleable__control:checked~label.sk-toggleable__label {background-color: #d4ebff;}#sk-container-id-5 div.sk-label input.sk-toggleable__control:checked~label.sk-toggleable__label {background-color: #d4ebff;}#sk-container-id-5 input.sk-hidden--visually {border: 0;clip: rect(1px 1px 1px 1px);clip: rect(1px, 1px, 1px, 1px);height: 1px;margin: -1px;overflow: hidden;padding: 0;position: absolute;width: 1px;}#sk-container-id-5 div.sk-estimator {font-family: monospace;background-color: #f0f8ff;border: 1px dotted black;border-radius: 0.25em;box-sizing: border-box;margin-bottom: 0.5em;}#sk-container-id-5 div.sk-estimator:hover {background-color: #d4ebff;}#sk-container-id-5 div.sk-parallel-item::after {content: \"\";width: 100%;border-bottom: 1px solid gray;flex-grow: 1;}#sk-container-id-5 div.sk-label:hover label.sk-toggleable__label {background-color: #d4ebff;}#sk-container-id-5 div.sk-serial::before {content: \"\";position: absolute;border-left: 1px solid gray;box-sizing: border-box;top: 0;bottom: 0;left: 50%;z-index: 0;}#sk-container-id-5 div.sk-serial {display: flex;flex-direction: column;align-items: center;background-color: white;padding-right: 0.2em;padding-left: 0.2em;position: relative;}#sk-container-id-5 div.sk-item {position: relative;z-index: 1;}#sk-container-id-5 div.sk-parallel {display: flex;align-items: stretch;justify-content: center;background-color: white;position: relative;}#sk-container-id-5 div.sk-item::before, #sk-container-id-5 div.sk-parallel-item::before {content: \"\";position: absolute;border-left: 1px solid gray;box-sizing: border-box;top: 0;bottom: 0;left: 50%;z-index: -1;}#sk-container-id-5 div.sk-parallel-item {display: flex;flex-direction: column;z-index: 1;position: relative;background-color: white;}#sk-container-id-5 div.sk-parallel-item:first-child::after {align-self: flex-end;width: 50%;}#sk-container-id-5 div.sk-parallel-item:last-child::after {align-self: flex-start;width: 50%;}#sk-container-id-5 div.sk-parallel-item:only-child::after {width: 0;}#sk-container-id-5 div.sk-dashed-wrapped {border: 1px dashed gray;margin: 0 0.4em 0.5em 0.4em;box-sizing: border-box;padding-bottom: 0.4em;background-color: white;}#sk-container-id-5 div.sk-label label {font-family: monospace;font-weight: bold;display: inline-block;line-height: 1.2em;}#sk-container-id-5 div.sk-label-container {text-align: center;}#sk-container-id-5 div.sk-container {/* jupyter's `normalize.less` sets `[hidden] { display: none; }` but bootstrap.min.css set `[hidden] { display: none !important; }` so we also need the `!important` here to be able to override the default hidden behavior on the sphinx rendered scikit-learn.org. See: https://github.com/scikit-learn/scikit-learn/issues/21755 */display: inline-block !important;position: relative;}#sk-container-id-5 div.sk-text-repr-fallback {display: none;}</style><div id=\"sk-container-id-5\" class=\"sk-top-container\"><div class=\"sk-text-repr-fallback\"><pre>RandomForestClassifier(random_state=0)</pre><b>In a Jupyter environment, please rerun this cell to show the HTML representation or trust the notebook. <br />On GitHub, the HTML representation is unable to render, please try loading this page with nbviewer.org.</b></div><div class=\"sk-container\" hidden><div class=\"sk-item\"><div class=\"sk-estimator sk-toggleable\"><input class=\"sk-toggleable__control sk-hidden--visually\" id=\"sk-estimator-id-5\" type=\"checkbox\" checked><label for=\"sk-estimator-id-5\" class=\"sk-toggleable__label sk-toggleable__label-arrow\">RandomForestClassifier</label><div class=\"sk-toggleable__content\"><pre>RandomForestClassifier(random_state=0)</pre></div></div></div></div></div>"
            ]
          },
          "metadata": {},
          "execution_count": 70
        }
      ]
    },
    {
      "cell_type": "code",
      "source": [
        ""
      ],
      "metadata": {
        "id": "snxtexqV5wDH"
      },
      "execution_count": null,
      "outputs": []
    },
    {
      "cell_type": "code",
      "source": [
        "def gib_good_bmm():\n",
        "    return np.array(my_datf.loc[:,1].T.sample(1))[0]\n",
        "\n",
        "def gib_bad_bmm():\n",
        "    return np.array(my_datf.loc[:,0].T.sample(1))[0]"
      ],
      "metadata": {
        "id": "RUNepMc25oSs"
      },
      "execution_count": 34,
      "outputs": []
    },
    {
      "cell_type": "code",
      "source": [
        "plt.Figure()\n",
        "plt.plot(gib_good_bmm())\n",
        "plt.plot(gib_bad_bmm(), color= \"r\")"
      ],
      "metadata": {
        "colab": {
          "base_uri": "https://localhost:8080/",
          "height": 449
        },
        "id": "l7-Bt-Mr6NFN",
        "outputId": "ce807526-874b-4e7b-a0a2-20f56ec170c5"
      },
      "execution_count": 36,
      "outputs": [
        {
          "output_type": "execute_result",
          "data": {
            "text/plain": [
              "[<matplotlib.lines.Line2D at 0x7e07083effa0>]"
            ]
          },
          "metadata": {},
          "execution_count": 36
        },
        {
          "output_type": "display_data",
          "data": {
            "text/plain": [
              "<Figure size 640x480 with 1 Axes>"
            ],
            "image/png": "[encoded data removed]"
          },
          "metadata": {}
        }
      ]
    },
    {
      "cell_type": "code",
      "source": [
        "good_score = 0\n",
        "for i in range(100):\n",
        "    m = scaler.transform([gib_good_bmm(),])\n",
        "    if clf.predict(m)[0] == 1:\n",
        "       good_score += 1\n",
        "\n",
        "print(f'Good Score: {good_score}')\n",
        "\n",
        "bad_score = 0\n",
        "for i in range(100):\n",
        "    m = scaler.transform([gib_good_bmm(),])\n",
        "    if clf.predict(m)[0] == 0:\n",
        "        bad_score +=1\n",
        "\n",
        "print(f'Bad Score: {bad_score}')\n"
      ],
      "metadata": {
        "colab": {
          "base_uri": "https://localhost:8080/"
        },
        "id": "WHC9sfse6vGW",
        "outputId": "b23a4737-36ca-4b1a-ec97-d21af449e324"
      },
      "execution_count": 72,
      "outputs": [
        {
          "output_type": "stream",
          "name": "stdout",
          "text": [
            "Good Score: 100\n",
            "Bad Score: 0\n"
          ]
        }
      ]
    },
    {
      "cell_type": "code",
      "source": [],
      "metadata": {
        "id": "mMQawMaU81PB"
      },
      "execution_count": null,
      "outputs": []
    }
  ]
}